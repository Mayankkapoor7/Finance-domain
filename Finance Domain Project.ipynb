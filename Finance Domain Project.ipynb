{
 "cells": [
  {
   "cell_type": "code",
   "execution_count": 1,
   "id": "794ff0b8-9590-4a18-8328-a611f82ff438",
   "metadata": {},
   "outputs": [],
   "source": [
    "# Import basic libraries\n",
    "import os\n",
    "import numpy as np\n",
    "import pandas as pd\n",
    "import matplotlib.pyplot as plt\n",
    "import seaborn as sns\n",
    "%matplotlib inline\n",
    "sns.set()\n",
    "import warnings\n",
    "warnings.filterwarnings('ignore')"
   ]
  },
  {
   "cell_type": "code",
   "execution_count": 2,
   "id": "1d8ea342-5d2a-442d-91fe-d3cd2e3d3e98",
   "metadata": {},
   "outputs": [],
   "source": [
    "df1 = pd.read_excel(\"dataset1.xlsx\")\n",
    "df2 = pd.read_excel(\"dataset2.xlsx\")"
   ]
  },
  {
   "cell_type": "code",
   "execution_count": 3,
   "id": "96ab8ad3-d3b9-4f57-bd4b-f620b3abcb45",
   "metadata": {
    "scrolled": true
   },
   "outputs": [
    {
     "data": {
      "text/html": [
       "<div>\n",
       "<style scoped>\n",
       "    .dataframe tbody tr th:only-of-type {\n",
       "        vertical-align: middle;\n",
       "    }\n",
       "\n",
       "    .dataframe tbody tr th {\n",
       "        vertical-align: top;\n",
       "    }\n",
       "\n",
       "    .dataframe thead th {\n",
       "        text-align: right;\n",
       "    }\n",
       "</style>\n",
       "<table border=\"1\" class=\"dataframe\">\n",
       "  <thead>\n",
       "    <tr style=\"text-align: right;\">\n",
       "      <th></th>\n",
       "      <th>PROSPECTID</th>\n",
       "      <th>Total_TL</th>\n",
       "      <th>Tot_Closed_TL</th>\n",
       "      <th>Tot_Active_TL</th>\n",
       "      <th>Total_TL_opened_L6M</th>\n",
       "      <th>Tot_TL_closed_L6M</th>\n",
       "      <th>pct_tl_open_L6M</th>\n",
       "      <th>pct_tl_closed_L6M</th>\n",
       "      <th>pct_active_tl</th>\n",
       "      <th>pct_closed_tl</th>\n",
       "      <th>...</th>\n",
       "      <th>CC_TL</th>\n",
       "      <th>Consumer_TL</th>\n",
       "      <th>Gold_TL</th>\n",
       "      <th>Home_TL</th>\n",
       "      <th>PL_TL</th>\n",
       "      <th>Secured_TL</th>\n",
       "      <th>Unsecured_TL</th>\n",
       "      <th>Other_TL</th>\n",
       "      <th>Age_Oldest_TL</th>\n",
       "      <th>Age_Newest_TL</th>\n",
       "    </tr>\n",
       "  </thead>\n",
       "  <tbody>\n",
       "    <tr>\n",
       "      <th>0</th>\n",
       "      <td>1</td>\n",
       "      <td>5</td>\n",
       "      <td>4</td>\n",
       "      <td>1</td>\n",
       "      <td>0</td>\n",
       "      <td>0</td>\n",
       "      <td>0.000</td>\n",
       "      <td>0.0</td>\n",
       "      <td>0.200</td>\n",
       "      <td>0.800</td>\n",
       "      <td>...</td>\n",
       "      <td>0</td>\n",
       "      <td>0</td>\n",
       "      <td>1</td>\n",
       "      <td>0</td>\n",
       "      <td>4</td>\n",
       "      <td>1</td>\n",
       "      <td>4</td>\n",
       "      <td>0</td>\n",
       "      <td>72</td>\n",
       "      <td>18</td>\n",
       "    </tr>\n",
       "    <tr>\n",
       "      <th>1</th>\n",
       "      <td>2</td>\n",
       "      <td>1</td>\n",
       "      <td>0</td>\n",
       "      <td>1</td>\n",
       "      <td>0</td>\n",
       "      <td>0</td>\n",
       "      <td>0.000</td>\n",
       "      <td>0.0</td>\n",
       "      <td>1.000</td>\n",
       "      <td>0.000</td>\n",
       "      <td>...</td>\n",
       "      <td>0</td>\n",
       "      <td>1</td>\n",
       "      <td>0</td>\n",
       "      <td>0</td>\n",
       "      <td>0</td>\n",
       "      <td>0</td>\n",
       "      <td>1</td>\n",
       "      <td>0</td>\n",
       "      <td>7</td>\n",
       "      <td>7</td>\n",
       "    </tr>\n",
       "    <tr>\n",
       "      <th>2</th>\n",
       "      <td>3</td>\n",
       "      <td>8</td>\n",
       "      <td>0</td>\n",
       "      <td>8</td>\n",
       "      <td>1</td>\n",
       "      <td>0</td>\n",
       "      <td>0.125</td>\n",
       "      <td>0.0</td>\n",
       "      <td>1.000</td>\n",
       "      <td>0.000</td>\n",
       "      <td>...</td>\n",
       "      <td>0</td>\n",
       "      <td>6</td>\n",
       "      <td>1</td>\n",
       "      <td>0</td>\n",
       "      <td>0</td>\n",
       "      <td>2</td>\n",
       "      <td>6</td>\n",
       "      <td>0</td>\n",
       "      <td>47</td>\n",
       "      <td>2</td>\n",
       "    </tr>\n",
       "    <tr>\n",
       "      <th>3</th>\n",
       "      <td>4</td>\n",
       "      <td>1</td>\n",
       "      <td>0</td>\n",
       "      <td>1</td>\n",
       "      <td>1</td>\n",
       "      <td>0</td>\n",
       "      <td>1.000</td>\n",
       "      <td>0.0</td>\n",
       "      <td>1.000</td>\n",
       "      <td>0.000</td>\n",
       "      <td>...</td>\n",
       "      <td>0</td>\n",
       "      <td>0</td>\n",
       "      <td>0</td>\n",
       "      <td>0</td>\n",
       "      <td>0</td>\n",
       "      <td>0</td>\n",
       "      <td>1</td>\n",
       "      <td>1</td>\n",
       "      <td>5</td>\n",
       "      <td>5</td>\n",
       "    </tr>\n",
       "    <tr>\n",
       "      <th>4</th>\n",
       "      <td>5</td>\n",
       "      <td>3</td>\n",
       "      <td>2</td>\n",
       "      <td>1</td>\n",
       "      <td>0</td>\n",
       "      <td>0</td>\n",
       "      <td>0.000</td>\n",
       "      <td>0.0</td>\n",
       "      <td>0.333</td>\n",
       "      <td>0.667</td>\n",
       "      <td>...</td>\n",
       "      <td>0</td>\n",
       "      <td>0</td>\n",
       "      <td>0</td>\n",
       "      <td>0</td>\n",
       "      <td>0</td>\n",
       "      <td>3</td>\n",
       "      <td>0</td>\n",
       "      <td>2</td>\n",
       "      <td>131</td>\n",
       "      <td>32</td>\n",
       "    </tr>\n",
       "  </tbody>\n",
       "</table>\n",
       "<p>5 rows × 26 columns</p>\n",
       "</div>"
      ],
      "text/plain": [
       "   PROSPECTID  Total_TL  Tot_Closed_TL  Tot_Active_TL  Total_TL_opened_L6M  \\\n",
       "0           1         5              4              1                    0   \n",
       "1           2         1              0              1                    0   \n",
       "2           3         8              0              8                    1   \n",
       "3           4         1              0              1                    1   \n",
       "4           5         3              2              1                    0   \n",
       "\n",
       "   Tot_TL_closed_L6M  pct_tl_open_L6M  pct_tl_closed_L6M  pct_active_tl  \\\n",
       "0                  0            0.000                0.0          0.200   \n",
       "1                  0            0.000                0.0          1.000   \n",
       "2                  0            0.125                0.0          1.000   \n",
       "3                  0            1.000                0.0          1.000   \n",
       "4                  0            0.000                0.0          0.333   \n",
       "\n",
       "   pct_closed_tl  ...  CC_TL  Consumer_TL  Gold_TL  Home_TL  PL_TL  \\\n",
       "0          0.800  ...      0            0        1        0      4   \n",
       "1          0.000  ...      0            1        0        0      0   \n",
       "2          0.000  ...      0            6        1        0      0   \n",
       "3          0.000  ...      0            0        0        0      0   \n",
       "4          0.667  ...      0            0        0        0      0   \n",
       "\n",
       "   Secured_TL  Unsecured_TL  Other_TL  Age_Oldest_TL  Age_Newest_TL  \n",
       "0           1             4         0             72             18  \n",
       "1           0             1         0              7              7  \n",
       "2           2             6         0             47              2  \n",
       "3           0             1         1              5              5  \n",
       "4           3             0         2            131             32  \n",
       "\n",
       "[5 rows x 26 columns]"
      ]
     },
     "execution_count": 3,
     "metadata": {},
     "output_type": "execute_result"
    }
   ],
   "source": [
    "df1.head()"
   ]
  },
  {
   "cell_type": "code",
   "execution_count": 4,
   "id": "20b0c0b7-d471-4b7b-a6be-23e784f3c637",
   "metadata": {},
   "outputs": [
    {
     "data": {
      "text/html": [
       "<div>\n",
       "<style scoped>\n",
       "    .dataframe tbody tr th:only-of-type {\n",
       "        vertical-align: middle;\n",
       "    }\n",
       "\n",
       "    .dataframe tbody tr th {\n",
       "        vertical-align: top;\n",
       "    }\n",
       "\n",
       "    .dataframe thead th {\n",
       "        text-align: right;\n",
       "    }\n",
       "</style>\n",
       "<table border=\"1\" class=\"dataframe\">\n",
       "  <thead>\n",
       "    <tr style=\"text-align: right;\">\n",
       "      <th></th>\n",
       "      <th>PROSPECTID</th>\n",
       "      <th>time_since_recent_payment</th>\n",
       "      <th>time_since_first_deliquency</th>\n",
       "      <th>time_since_recent_deliquency</th>\n",
       "      <th>num_times_delinquent</th>\n",
       "      <th>max_delinquency_level</th>\n",
       "      <th>max_recent_level_of_deliq</th>\n",
       "      <th>num_deliq_6mts</th>\n",
       "      <th>num_deliq_12mts</th>\n",
       "      <th>num_deliq_6_12mts</th>\n",
       "      <th>...</th>\n",
       "      <th>pct_CC_enq_L6m_of_L12m</th>\n",
       "      <th>pct_PL_enq_L6m_of_ever</th>\n",
       "      <th>pct_CC_enq_L6m_of_ever</th>\n",
       "      <th>max_unsec_exposure_inPct</th>\n",
       "      <th>HL_Flag</th>\n",
       "      <th>GL_Flag</th>\n",
       "      <th>last_prod_enq2</th>\n",
       "      <th>first_prod_enq2</th>\n",
       "      <th>Credit_Score</th>\n",
       "      <th>Approved_Flag</th>\n",
       "    </tr>\n",
       "  </thead>\n",
       "  <tbody>\n",
       "    <tr>\n",
       "      <th>0</th>\n",
       "      <td>1</td>\n",
       "      <td>549</td>\n",
       "      <td>35</td>\n",
       "      <td>15</td>\n",
       "      <td>11</td>\n",
       "      <td>29</td>\n",
       "      <td>29</td>\n",
       "      <td>0</td>\n",
       "      <td>0</td>\n",
       "      <td>0</td>\n",
       "      <td>...</td>\n",
       "      <td>0.0</td>\n",
       "      <td>0.0</td>\n",
       "      <td>0.0</td>\n",
       "      <td>13.333</td>\n",
       "      <td>1</td>\n",
       "      <td>0</td>\n",
       "      <td>PL</td>\n",
       "      <td>PL</td>\n",
       "      <td>696</td>\n",
       "      <td>P2</td>\n",
       "    </tr>\n",
       "    <tr>\n",
       "      <th>1</th>\n",
       "      <td>2</td>\n",
       "      <td>47</td>\n",
       "      <td>-99999</td>\n",
       "      <td>-99999</td>\n",
       "      <td>0</td>\n",
       "      <td>-99999</td>\n",
       "      <td>0</td>\n",
       "      <td>0</td>\n",
       "      <td>0</td>\n",
       "      <td>0</td>\n",
       "      <td>...</td>\n",
       "      <td>0.0</td>\n",
       "      <td>0.0</td>\n",
       "      <td>0.0</td>\n",
       "      <td>0.860</td>\n",
       "      <td>0</td>\n",
       "      <td>0</td>\n",
       "      <td>ConsumerLoan</td>\n",
       "      <td>ConsumerLoan</td>\n",
       "      <td>685</td>\n",
       "      <td>P2</td>\n",
       "    </tr>\n",
       "    <tr>\n",
       "      <th>2</th>\n",
       "      <td>3</td>\n",
       "      <td>302</td>\n",
       "      <td>11</td>\n",
       "      <td>3</td>\n",
       "      <td>9</td>\n",
       "      <td>25</td>\n",
       "      <td>25</td>\n",
       "      <td>1</td>\n",
       "      <td>9</td>\n",
       "      <td>8</td>\n",
       "      <td>...</td>\n",
       "      <td>0.0</td>\n",
       "      <td>0.0</td>\n",
       "      <td>0.0</td>\n",
       "      <td>5741.667</td>\n",
       "      <td>1</td>\n",
       "      <td>0</td>\n",
       "      <td>ConsumerLoan</td>\n",
       "      <td>others</td>\n",
       "      <td>693</td>\n",
       "      <td>P2</td>\n",
       "    </tr>\n",
       "    <tr>\n",
       "      <th>3</th>\n",
       "      <td>4</td>\n",
       "      <td>-99999</td>\n",
       "      <td>-99999</td>\n",
       "      <td>-99999</td>\n",
       "      <td>0</td>\n",
       "      <td>-99999</td>\n",
       "      <td>0</td>\n",
       "      <td>0</td>\n",
       "      <td>0</td>\n",
       "      <td>0</td>\n",
       "      <td>...</td>\n",
       "      <td>0.0</td>\n",
       "      <td>0.0</td>\n",
       "      <td>0.0</td>\n",
       "      <td>9.900</td>\n",
       "      <td>0</td>\n",
       "      <td>0</td>\n",
       "      <td>others</td>\n",
       "      <td>others</td>\n",
       "      <td>673</td>\n",
       "      <td>P2</td>\n",
       "    </tr>\n",
       "    <tr>\n",
       "      <th>4</th>\n",
       "      <td>5</td>\n",
       "      <td>583</td>\n",
       "      <td>-99999</td>\n",
       "      <td>-99999</td>\n",
       "      <td>0</td>\n",
       "      <td>-99999</td>\n",
       "      <td>0</td>\n",
       "      <td>0</td>\n",
       "      <td>0</td>\n",
       "      <td>0</td>\n",
       "      <td>...</td>\n",
       "      <td>0.0</td>\n",
       "      <td>0.0</td>\n",
       "      <td>0.0</td>\n",
       "      <td>-99999.000</td>\n",
       "      <td>0</td>\n",
       "      <td>0</td>\n",
       "      <td>AL</td>\n",
       "      <td>AL</td>\n",
       "      <td>753</td>\n",
       "      <td>P1</td>\n",
       "    </tr>\n",
       "  </tbody>\n",
       "</table>\n",
       "<p>5 rows × 62 columns</p>\n",
       "</div>"
      ],
      "text/plain": [
       "   PROSPECTID  time_since_recent_payment  time_since_first_deliquency  \\\n",
       "0           1                        549                           35   \n",
       "1           2                         47                       -99999   \n",
       "2           3                        302                           11   \n",
       "3           4                     -99999                       -99999   \n",
       "4           5                        583                       -99999   \n",
       "\n",
       "   time_since_recent_deliquency  num_times_delinquent  max_delinquency_level  \\\n",
       "0                            15                    11                     29   \n",
       "1                        -99999                     0                 -99999   \n",
       "2                             3                     9                     25   \n",
       "3                        -99999                     0                 -99999   \n",
       "4                        -99999                     0                 -99999   \n",
       "\n",
       "   max_recent_level_of_deliq  num_deliq_6mts  num_deliq_12mts  \\\n",
       "0                         29               0                0   \n",
       "1                          0               0                0   \n",
       "2                         25               1                9   \n",
       "3                          0               0                0   \n",
       "4                          0               0                0   \n",
       "\n",
       "   num_deliq_6_12mts  ...  pct_CC_enq_L6m_of_L12m  pct_PL_enq_L6m_of_ever  \\\n",
       "0                  0  ...                     0.0                     0.0   \n",
       "1                  0  ...                     0.0                     0.0   \n",
       "2                  8  ...                     0.0                     0.0   \n",
       "3                  0  ...                     0.0                     0.0   \n",
       "4                  0  ...                     0.0                     0.0   \n",
       "\n",
       "   pct_CC_enq_L6m_of_ever  max_unsec_exposure_inPct  HL_Flag  GL_Flag  \\\n",
       "0                     0.0                    13.333        1        0   \n",
       "1                     0.0                     0.860        0        0   \n",
       "2                     0.0                  5741.667        1        0   \n",
       "3                     0.0                     9.900        0        0   \n",
       "4                     0.0                -99999.000        0        0   \n",
       "\n",
       "   last_prod_enq2  first_prod_enq2  Credit_Score  Approved_Flag  \n",
       "0              PL               PL           696             P2  \n",
       "1    ConsumerLoan     ConsumerLoan           685             P2  \n",
       "2    ConsumerLoan           others           693             P2  \n",
       "3          others           others           673             P2  \n",
       "4              AL               AL           753             P1  \n",
       "\n",
       "[5 rows x 62 columns]"
      ]
     },
     "execution_count": 4,
     "metadata": {},
     "output_type": "execute_result"
    }
   ],
   "source": [
    "df2.head()"
   ]
  },
  {
   "cell_type": "code",
   "execution_count": 5,
   "id": "f34742c4-0486-46bc-b3c7-a4ff27d1a501",
   "metadata": {},
   "outputs": [
    {
     "data": {
      "text/plain": [
       "(51336, 26)"
      ]
     },
     "execution_count": 5,
     "metadata": {},
     "output_type": "execute_result"
    }
   ],
   "source": [
    "df1.shape"
   ]
  },
  {
   "cell_type": "code",
   "execution_count": 6,
   "id": "f3a10dd5-2be7-496c-8d6d-e120f743a31a",
   "metadata": {},
   "outputs": [
    {
     "data": {
      "text/plain": [
       "(51336, 62)"
      ]
     },
     "execution_count": 6,
     "metadata": {},
     "output_type": "execute_result"
    }
   ],
   "source": [
    "df2.shape"
   ]
  },
  {
   "cell_type": "code",
   "execution_count": 7,
   "id": "fca2beab-4afc-421d-a4af-580d1e4d0b2c",
   "metadata": {},
   "outputs": [
    {
     "data": {
      "text/plain": [
       "0.07791803023219572"
      ]
     },
     "execution_count": 7,
     "metadata": {},
     "output_type": "execute_result"
    }
   ],
   "source": [
    "40/51336*100"
   ]
  },
  {
   "cell_type": "code",
   "execution_count": 8,
   "id": "b3a511fc-f5ef-43e0-97d3-8ef99e1f2863",
   "metadata": {},
   "outputs": [
    {
     "data": {
      "text/plain": [
       "(51296, 26)"
      ]
     },
     "execution_count": 8,
     "metadata": {},
     "output_type": "execute_result"
    }
   ],
   "source": [
    "df1 = df1.loc[df1['Age_Oldest_TL'] != -99999]\n",
    "df1.shape"
   ]
  },
  {
   "cell_type": "code",
   "execution_count": 9,
   "id": "c439b4db-49e5-4c6a-be7e-41b0cf1c677f",
   "metadata": {},
   "outputs": [
    {
     "data": {
      "text/plain": [
       "12834.0"
      ]
     },
     "execution_count": 9,
     "metadata": {},
     "output_type": "execute_result"
    }
   ],
   "source": [
    "51336*25/100"
   ]
  },
  {
   "cell_type": "code",
   "execution_count": 10,
   "id": "fc744d1a-d0ad-4781-9697-77ba69389a41",
   "metadata": {},
   "outputs": [],
   "source": [
    "columns_to_be_removed = []\n",
    "\n",
    "for i in df2.columns:\n",
    "    if df2.loc[df2[i] == -99999].shape[0] > 12834:\n",
    "        columns_to_be_removed.append(i)"
   ]
  },
  {
   "cell_type": "code",
   "execution_count": 11,
   "id": "396bf8c3-36b7-4df2-b9f8-5850fb598c84",
   "metadata": {},
   "outputs": [
    {
     "data": {
      "text/html": [
       "<div>\n",
       "<style scoped>\n",
       "    .dataframe tbody tr th:only-of-type {\n",
       "        vertical-align: middle;\n",
       "    }\n",
       "\n",
       "    .dataframe tbody tr th {\n",
       "        vertical-align: top;\n",
       "    }\n",
       "\n",
       "    .dataframe thead th {\n",
       "        text-align: right;\n",
       "    }\n",
       "</style>\n",
       "<table border=\"1\" class=\"dataframe\">\n",
       "  <thead>\n",
       "    <tr style=\"text-align: right;\">\n",
       "      <th></th>\n",
       "      <th>0</th>\n",
       "    </tr>\n",
       "  </thead>\n",
       "  <tbody>\n",
       "    <tr>\n",
       "      <th>0</th>\n",
       "      <td>time_since_first_deliquency</td>\n",
       "    </tr>\n",
       "    <tr>\n",
       "      <th>1</th>\n",
       "      <td>time_since_recent_deliquency</td>\n",
       "    </tr>\n",
       "    <tr>\n",
       "      <th>2</th>\n",
       "      <td>max_delinquency_level</td>\n",
       "    </tr>\n",
       "    <tr>\n",
       "      <th>3</th>\n",
       "      <td>max_deliq_6mts</td>\n",
       "    </tr>\n",
       "    <tr>\n",
       "      <th>4</th>\n",
       "      <td>CC_utilization</td>\n",
       "    </tr>\n",
       "    <tr>\n",
       "      <th>5</th>\n",
       "      <td>PL_utilization</td>\n",
       "    </tr>\n",
       "    <tr>\n",
       "      <th>6</th>\n",
       "      <td>max_unsec_exposure_inPct</td>\n",
       "    </tr>\n",
       "  </tbody>\n",
       "</table>\n",
       "</div>"
      ],
      "text/plain": [
       "                              0\n",
       "0   time_since_first_deliquency\n",
       "1  time_since_recent_deliquency\n",
       "2         max_delinquency_level\n",
       "3                max_deliq_6mts\n",
       "4                CC_utilization\n",
       "5                PL_utilization\n",
       "6      max_unsec_exposure_inPct"
      ]
     },
     "execution_count": 11,
     "metadata": {},
     "output_type": "execute_result"
    }
   ],
   "source": [
    "pd.DataFrame(columns_to_be_removed)"
   ]
  },
  {
   "cell_type": "code",
   "execution_count": 12,
   "id": "2a1efff6-3d63-40bc-98b3-6c49dcb85d38",
   "metadata": {},
   "outputs": [
    {
     "data": {
      "text/plain": [
       "(51336, 55)"
      ]
     },
     "execution_count": 12,
     "metadata": {},
     "output_type": "execute_result"
    }
   ],
   "source": [
    "df2 = df2.drop(columns_to_be_removed, axis=1)\n",
    "df2.shape"
   ]
  },
  {
   "cell_type": "code",
   "execution_count": 13,
   "id": "73b0efe9-f6e2-48f5-a276-f5a11e273176",
   "metadata": {},
   "outputs": [],
   "source": [
    "# KNN imputation method to handle missing data (-99999)"
   ]
  },
  {
   "cell_type": "code",
   "execution_count": 14,
   "id": "e7e4d615-df6d-4f2d-a81b-4c17c3823088",
   "metadata": {},
   "outputs": [],
   "source": [
    "df3 = df2.copy()"
   ]
  },
  {
   "cell_type": "code",
   "execution_count": 15,
   "id": "e7c9a622-eb02-4509-93be-d829cedc34f1",
   "metadata": {},
   "outputs": [],
   "source": [
    "for i in df3.columns:\n",
    "    df3 = df3.loc[df3[i] !=-99999]"
   ]
  },
  {
   "cell_type": "code",
   "execution_count": 16,
   "id": "b7532bd0-3dff-477d-94e5-91767d9cb987",
   "metadata": {},
   "outputs": [
    {
     "data": {
      "text/plain": [
       "(35579, 55)"
      ]
     },
     "execution_count": 16,
     "metadata": {},
     "output_type": "execute_result"
    }
   ],
   "source": [
    "df3.shape"
   ]
  },
  {
   "cell_type": "code",
   "execution_count": 17,
   "id": "c9149c59-dcbf-42af-a66a-7e2cb59896cf",
   "metadata": {},
   "outputs": [
    {
     "name": "stdout",
     "output_type": "stream",
     "text": [
      "PROSPECTID\n"
     ]
    }
   ],
   "source": [
    "# common columns name\n",
    "for i in list(df1.columns):\n",
    "    if i in list(df3.columns):\n",
    "        print(i)"
   ]
  },
  {
   "cell_type": "code",
   "execution_count": 18,
   "id": "8e167b17-1bbd-4230-aaf7-a94614a51e4f",
   "metadata": {},
   "outputs": [],
   "source": [
    "# Merge both the table basis inner join\n",
    "df = pd.merge(df1, df3, how='inner', left_on=['PROSPECTID'], right_on = ['PROSPECTID'])"
   ]
  },
  {
   "cell_type": "code",
   "execution_count": 19,
   "id": "cca24982-0c81-44d4-9dc2-69b884990ba3",
   "metadata": {},
   "outputs": [
    {
     "data": {
      "text/plain": [
       "(35579, 80)"
      ]
     },
     "execution_count": 19,
     "metadata": {},
     "output_type": "execute_result"
    }
   ],
   "source": [
    "df.shape"
   ]
  },
  {
   "cell_type": "code",
   "execution_count": 20,
   "id": "b4a54a70-6903-40e3-a955-3f9bdfaaedce",
   "metadata": {},
   "outputs": [
    {
     "data": {
      "text/html": [
       "<div>\n",
       "<style scoped>\n",
       "    .dataframe tbody tr th:only-of-type {\n",
       "        vertical-align: middle;\n",
       "    }\n",
       "\n",
       "    .dataframe tbody tr th {\n",
       "        vertical-align: top;\n",
       "    }\n",
       "\n",
       "    .dataframe thead th {\n",
       "        text-align: right;\n",
       "    }\n",
       "</style>\n",
       "<table border=\"1\" class=\"dataframe\">\n",
       "  <thead>\n",
       "    <tr style=\"text-align: right;\">\n",
       "      <th></th>\n",
       "      <th>PROSPECTID</th>\n",
       "      <th>Total_TL</th>\n",
       "      <th>Tot_Closed_TL</th>\n",
       "      <th>Tot_Active_TL</th>\n",
       "      <th>Total_TL_opened_L6M</th>\n",
       "      <th>Tot_TL_closed_L6M</th>\n",
       "      <th>pct_tl_open_L6M</th>\n",
       "      <th>pct_tl_closed_L6M</th>\n",
       "      <th>pct_active_tl</th>\n",
       "      <th>pct_closed_tl</th>\n",
       "      <th>...</th>\n",
       "      <th>pct_PL_enq_L6m_of_L12m</th>\n",
       "      <th>pct_CC_enq_L6m_of_L12m</th>\n",
       "      <th>pct_PL_enq_L6m_of_ever</th>\n",
       "      <th>pct_CC_enq_L6m_of_ever</th>\n",
       "      <th>HL_Flag</th>\n",
       "      <th>GL_Flag</th>\n",
       "      <th>last_prod_enq2</th>\n",
       "      <th>first_prod_enq2</th>\n",
       "      <th>Credit_Score</th>\n",
       "      <th>Approved_Flag</th>\n",
       "    </tr>\n",
       "  </thead>\n",
       "  <tbody>\n",
       "    <tr>\n",
       "      <th>0</th>\n",
       "      <td>2</td>\n",
       "      <td>1</td>\n",
       "      <td>0</td>\n",
       "      <td>1</td>\n",
       "      <td>0</td>\n",
       "      <td>0</td>\n",
       "      <td>0.000</td>\n",
       "      <td>0.0</td>\n",
       "      <td>1.000</td>\n",
       "      <td>0.000</td>\n",
       "      <td>...</td>\n",
       "      <td>0.0</td>\n",
       "      <td>0.0</td>\n",
       "      <td>0.000</td>\n",
       "      <td>0.0</td>\n",
       "      <td>0</td>\n",
       "      <td>0</td>\n",
       "      <td>ConsumerLoan</td>\n",
       "      <td>ConsumerLoan</td>\n",
       "      <td>685</td>\n",
       "      <td>P2</td>\n",
       "    </tr>\n",
       "    <tr>\n",
       "      <th>1</th>\n",
       "      <td>3</td>\n",
       "      <td>8</td>\n",
       "      <td>0</td>\n",
       "      <td>8</td>\n",
       "      <td>1</td>\n",
       "      <td>0</td>\n",
       "      <td>0.125</td>\n",
       "      <td>0.0</td>\n",
       "      <td>1.000</td>\n",
       "      <td>0.000</td>\n",
       "      <td>...</td>\n",
       "      <td>0.0</td>\n",
       "      <td>0.0</td>\n",
       "      <td>0.000</td>\n",
       "      <td>0.0</td>\n",
       "      <td>1</td>\n",
       "      <td>0</td>\n",
       "      <td>ConsumerLoan</td>\n",
       "      <td>others</td>\n",
       "      <td>693</td>\n",
       "      <td>P2</td>\n",
       "    </tr>\n",
       "    <tr>\n",
       "      <th>2</th>\n",
       "      <td>6</td>\n",
       "      <td>6</td>\n",
       "      <td>5</td>\n",
       "      <td>1</td>\n",
       "      <td>0</td>\n",
       "      <td>0</td>\n",
       "      <td>0.000</td>\n",
       "      <td>0.0</td>\n",
       "      <td>0.167</td>\n",
       "      <td>0.833</td>\n",
       "      <td>...</td>\n",
       "      <td>1.0</td>\n",
       "      <td>0.0</td>\n",
       "      <td>0.429</td>\n",
       "      <td>0.0</td>\n",
       "      <td>1</td>\n",
       "      <td>0</td>\n",
       "      <td>ConsumerLoan</td>\n",
       "      <td>PL</td>\n",
       "      <td>668</td>\n",
       "      <td>P3</td>\n",
       "    </tr>\n",
       "    <tr>\n",
       "      <th>3</th>\n",
       "      <td>8</td>\n",
       "      <td>6</td>\n",
       "      <td>4</td>\n",
       "      <td>2</td>\n",
       "      <td>0</td>\n",
       "      <td>0</td>\n",
       "      <td>0.000</td>\n",
       "      <td>0.0</td>\n",
       "      <td>0.333</td>\n",
       "      <td>0.667</td>\n",
       "      <td>...</td>\n",
       "      <td>0.0</td>\n",
       "      <td>0.0</td>\n",
       "      <td>0.000</td>\n",
       "      <td>0.0</td>\n",
       "      <td>0</td>\n",
       "      <td>0</td>\n",
       "      <td>ConsumerLoan</td>\n",
       "      <td>others</td>\n",
       "      <td>676</td>\n",
       "      <td>P2</td>\n",
       "    </tr>\n",
       "    <tr>\n",
       "      <th>4</th>\n",
       "      <td>9</td>\n",
       "      <td>1</td>\n",
       "      <td>0</td>\n",
       "      <td>1</td>\n",
       "      <td>0</td>\n",
       "      <td>0</td>\n",
       "      <td>0.000</td>\n",
       "      <td>0.0</td>\n",
       "      <td>1.000</td>\n",
       "      <td>0.000</td>\n",
       "      <td>...</td>\n",
       "      <td>0.0</td>\n",
       "      <td>0.0</td>\n",
       "      <td>0.000</td>\n",
       "      <td>0.0</td>\n",
       "      <td>0</td>\n",
       "      <td>0</td>\n",
       "      <td>ConsumerLoan</td>\n",
       "      <td>others</td>\n",
       "      <td>658</td>\n",
       "      <td>P4</td>\n",
       "    </tr>\n",
       "  </tbody>\n",
       "</table>\n",
       "<p>5 rows × 80 columns</p>\n",
       "</div>"
      ],
      "text/plain": [
       "   PROSPECTID  Total_TL  Tot_Closed_TL  Tot_Active_TL  Total_TL_opened_L6M  \\\n",
       "0           2         1              0              1                    0   \n",
       "1           3         8              0              8                    1   \n",
       "2           6         6              5              1                    0   \n",
       "3           8         6              4              2                    0   \n",
       "4           9         1              0              1                    0   \n",
       "\n",
       "   Tot_TL_closed_L6M  pct_tl_open_L6M  pct_tl_closed_L6M  pct_active_tl  \\\n",
       "0                  0            0.000                0.0          1.000   \n",
       "1                  0            0.125                0.0          1.000   \n",
       "2                  0            0.000                0.0          0.167   \n",
       "3                  0            0.000                0.0          0.333   \n",
       "4                  0            0.000                0.0          1.000   \n",
       "\n",
       "   pct_closed_tl  ...  pct_PL_enq_L6m_of_L12m  pct_CC_enq_L6m_of_L12m  \\\n",
       "0          0.000  ...                     0.0                     0.0   \n",
       "1          0.000  ...                     0.0                     0.0   \n",
       "2          0.833  ...                     1.0                     0.0   \n",
       "3          0.667  ...                     0.0                     0.0   \n",
       "4          0.000  ...                     0.0                     0.0   \n",
       "\n",
       "   pct_PL_enq_L6m_of_ever  pct_CC_enq_L6m_of_ever  HL_Flag  GL_Flag  \\\n",
       "0                   0.000                     0.0        0        0   \n",
       "1                   0.000                     0.0        1        0   \n",
       "2                   0.429                     0.0        1        0   \n",
       "3                   0.000                     0.0        0        0   \n",
       "4                   0.000                     0.0        0        0   \n",
       "\n",
       "   last_prod_enq2  first_prod_enq2  Credit_Score  Approved_Flag  \n",
       "0    ConsumerLoan     ConsumerLoan           685             P2  \n",
       "1    ConsumerLoan           others           693             P2  \n",
       "2    ConsumerLoan               PL           668             P3  \n",
       "3    ConsumerLoan           others           676             P2  \n",
       "4    ConsumerLoan           others           658             P4  \n",
       "\n",
       "[5 rows x 80 columns]"
      ]
     },
     "execution_count": 20,
     "metadata": {},
     "output_type": "execute_result"
    }
   ],
   "source": [
    "df.head()"
   ]
  },
  {
   "cell_type": "code",
   "execution_count": 21,
   "id": "c87c0b9c-3a25-418e-ae1f-c80a808a2849",
   "metadata": {},
   "outputs": [
    {
     "data": {
      "text/plain": [
       "0"
      ]
     },
     "execution_count": 21,
     "metadata": {},
     "output_type": "execute_result"
    }
   ],
   "source": [
    "df.isnull().sum().sum()"
   ]
  },
  {
   "cell_type": "code",
   "execution_count": 22,
   "id": "f0355edb-acc2-4b98-b61c-7d7e36c394da",
   "metadata": {},
   "outputs": [
    {
     "name": "stdout",
     "output_type": "stream",
     "text": [
      "MARITALSTATUS\n",
      "EDUCATION\n",
      "GENDER\n",
      "last_prod_enq2\n",
      "first_prod_enq2\n",
      "Approved_Flag\n"
     ]
    }
   ],
   "source": [
    "# Check categorical variable\n",
    "for i in df.columns:\n",
    "    if df[i].dtype == 'object':\n",
    "        print(i)"
   ]
  },
  {
   "cell_type": "code",
   "execution_count": 23,
   "id": "ca6dba7e-7f25-4694-b82e-8c30bd2cdcb8",
   "metadata": {},
   "outputs": [],
   "source": [
    "# Chi-Square Test\n",
    "from scipy.stats import chi2_contingency"
   ]
  },
  {
   "cell_type": "code",
   "execution_count": 24,
   "id": "9553aeb6-81a3-4a5e-bc18-603a2ebfb8e7",
   "metadata": {},
   "outputs": [
    {
     "name": "stdout",
     "output_type": "stream",
     "text": [
      "MARITALSTATUS --- 4.095160473208429e-191\n",
      "EDUCATION --- 2.104715600708518e-37\n",
      "GENDER --- 6.462836948408467e-06\n",
      "last_prod_enq2 --- 0.0\n",
      "first_prod_enq2 --- 1.0235474613330158e-227\n"
     ]
    }
   ],
   "source": [
    "for i in ['MARITALSTATUS', 'EDUCATION', 'GENDER', 'last_prod_enq2', 'first_prod_enq2']:\n",
    "    chi2, pval,_,_ = chi2_contingency(pd.crosstab(df[i], df['Approved_Flag']))\n",
    "    print(i, '---', pval)"
   ]
  },
  {
   "cell_type": "code",
   "execution_count": 25,
   "id": "f0c9625e-4e70-4ed7-a179-3d4604cd77b7",
   "metadata": {},
   "outputs": [],
   "source": [
    "# Check numerical columns\n",
    "numeric_columns = []\n",
    "\n",
    "for i in df.columns:\n",
    "    if df[i].dtype !='object' and i not in ['PROSPECTID', 'Approved_Flag']:\n",
    "        numeric_columns.append(i)"
   ]
  },
  {
   "cell_type": "code",
   "execution_count": 26,
   "id": "45578723-5820-4eaf-91fe-ac5c2fa1458b",
   "metadata": {},
   "outputs": [
    {
     "data": {
      "text/plain": [
       "['Total_TL',\n",
       " 'Tot_Closed_TL',\n",
       " 'Tot_Active_TL',\n",
       " 'Total_TL_opened_L6M',\n",
       " 'Tot_TL_closed_L6M',\n",
       " 'pct_tl_open_L6M',\n",
       " 'pct_tl_closed_L6M',\n",
       " 'pct_active_tl',\n",
       " 'pct_closed_tl',\n",
       " 'Total_TL_opened_L12M',\n",
       " 'Tot_TL_closed_L12M',\n",
       " 'pct_tl_open_L12M',\n",
       " 'pct_tl_closed_L12M',\n",
       " 'Tot_Missed_Pmnt',\n",
       " 'Auto_TL',\n",
       " 'CC_TL',\n",
       " 'Consumer_TL',\n",
       " 'Gold_TL',\n",
       " 'Home_TL',\n",
       " 'PL_TL',\n",
       " 'Secured_TL',\n",
       " 'Unsecured_TL',\n",
       " 'Other_TL',\n",
       " 'Age_Oldest_TL',\n",
       " 'Age_Newest_TL',\n",
       " 'time_since_recent_payment',\n",
       " 'num_times_delinquent',\n",
       " 'max_recent_level_of_deliq',\n",
       " 'num_deliq_6mts',\n",
       " 'num_deliq_12mts',\n",
       " 'num_deliq_6_12mts',\n",
       " 'max_deliq_12mts',\n",
       " 'num_times_30p_dpd',\n",
       " 'num_times_60p_dpd',\n",
       " 'num_std',\n",
       " 'num_std_6mts',\n",
       " 'num_std_12mts',\n",
       " 'num_sub',\n",
       " 'num_sub_6mts',\n",
       " 'num_sub_12mts',\n",
       " 'num_dbt',\n",
       " 'num_dbt_6mts',\n",
       " 'num_dbt_12mts',\n",
       " 'num_lss',\n",
       " 'num_lss_6mts',\n",
       " 'num_lss_12mts',\n",
       " 'recent_level_of_deliq',\n",
       " 'tot_enq',\n",
       " 'CC_enq',\n",
       " 'CC_enq_L6m',\n",
       " 'CC_enq_L12m',\n",
       " 'PL_enq',\n",
       " 'PL_enq_L6m',\n",
       " 'PL_enq_L12m',\n",
       " 'time_since_recent_enq',\n",
       " 'enq_L12m',\n",
       " 'enq_L6m',\n",
       " 'enq_L3m',\n",
       " 'AGE',\n",
       " 'NETMONTHLYINCOME',\n",
       " 'Time_With_Curr_Empr',\n",
       " 'pct_of_active_TLs_ever',\n",
       " 'pct_opened_TLs_L6m_of_L12m',\n",
       " 'pct_currentBal_all_TL',\n",
       " 'CC_Flag',\n",
       " 'PL_Flag',\n",
       " 'pct_PL_enq_L6m_of_L12m',\n",
       " 'pct_CC_enq_L6m_of_L12m',\n",
       " 'pct_PL_enq_L6m_of_ever',\n",
       " 'pct_CC_enq_L6m_of_ever',\n",
       " 'HL_Flag',\n",
       " 'GL_Flag',\n",
       " 'Credit_Score']"
      ]
     },
     "execution_count": 26,
     "metadata": {},
     "output_type": "execute_result"
    }
   ],
   "source": [
    "numeric_columns"
   ]
  },
  {
   "cell_type": "code",
   "execution_count": 27,
   "id": "929af17f-8d76-410c-ac48-29338d0c5ca3",
   "metadata": {},
   "outputs": [],
   "source": [
    "# Variance inflation factor \n",
    "from statsmodels.stats.outliers_influence import variance_inflation_factor"
   ]
  },
  {
   "cell_type": "code",
   "execution_count": 28,
   "id": "20c2ab78-1dc4-4902-a869-a864adc05f1f",
   "metadata": {},
   "outputs": [],
   "source": [
    "vif_data = df[numeric_columns]\n",
    "total_columns = vif_data.shape[1]\n",
    "columns_to_be_kept = []\n",
    "column_index = 0"
   ]
  },
  {
   "cell_type": "code",
   "execution_count": 29,
   "id": "6dd5c5ca-29c0-43eb-bf21-eced0b5302aa",
   "metadata": {},
   "outputs": [
    {
     "data": {
      "text/plain": [
       "(35579, 73)"
      ]
     },
     "execution_count": 29,
     "metadata": {},
     "output_type": "execute_result"
    }
   ],
   "source": [
    "vif_data.shape"
   ]
  },
  {
   "cell_type": "code",
   "execution_count": 30,
   "id": "d55e4a2e-8ad3-4537-9267-a4f9c524929a",
   "metadata": {},
   "outputs": [
    {
     "name": "stdout",
     "output_type": "stream",
     "text": [
      "0 ---- inf\n",
      "0 ---- inf\n",
      "0 ---- 11.438786902363596\n",
      "0 ---- 8.20585760426891\n",
      "0 ---- 6.548128968896226\n",
      "0 ---- 5.150257269314186\n",
      "1 ---- 2.6340124661725555\n",
      "2 ---- inf\n",
      "2 ---- 1662.6815494654013\n",
      "2 ---- 8.955702441486007\n",
      "2 ---- 4.028359341466649\n",
      "3 ---- 7.381800402545012\n",
      "3 ---- 7.234849457263119\n",
      "3 ---- 2.0456610006584803\n",
      "4 ---- inf\n",
      "4 ---- 4.905295045854351\n",
      "5 ---- 25.052698769699386\n",
      "5 ---- 29.112471753470423\n",
      "5 ---- 4.303762283152015\n",
      "6 ---- 3.0361711215064444\n",
      "7 ---- 2.854104662594494\n",
      "8 ---- 4.369960517199508\n",
      "9 ---- 2.2710713978295765\n",
      "10 ---- 4.513889995923768\n",
      "11 ---- 4.0241791097075765\n",
      "12 ---- 1.8537074096180808\n",
      "13 ---- 8.429603352270776\n",
      "13 ---- 4.489624552956799\n",
      "14 ---- inf\n",
      "14 ---- 7.803319939469136\n",
      "14 ---- 1.7530385627648892\n",
      "15 ---- 2.3059089658393135\n",
      "16 ---- 7.932948245852622\n",
      "16 ---- 1.7351401965778466\n",
      "17 ---- 7.174571981093047\n",
      "17 ---- 15.045870499301447\n",
      "17 ---- 1.8154033424603904\n",
      "18 ---- 1.562191984404213\n",
      "19 ---- 2.3610950219216127\n",
      "20 ---- 2.883589955888552\n",
      "21 ---- 2.1343074876867068\n",
      "22 ---- 7.322608094013198\n",
      "22 ---- 1.9523240923540834\n",
      "23 ---- 1.4997662593404506\n",
      "24 ---- 2.2072252129112395\n",
      "25 ---- 2.6620502460079365\n",
      "26 ---- 4.522611129363697\n",
      "27 ---- 16.936674595351423\n",
      "27 ---- 6.560710562750573\n",
      "27 ---- 8.953712334132254\n",
      "27 ---- 2.4001247655579085\n",
      "28 ---- 8.927959220101341\n",
      "28 ---- 13.217268909412109\n",
      "28 ---- 3.5517584894290724\n",
      "29 ---- 2.035377183245419\n",
      "30 ---- 17.59698718533055\n",
      "30 ---- 10.808579871160255\n",
      "30 ---- 2.398082636107237\n",
      "31 ---- 22.11546824045451\n",
      "31 ---- 2.66692396270288\n",
      "32 ---- 3.4144359006205245\n",
      "33 ---- 10.65158812487115\n",
      "33 ---- 6.8033803459847775\n",
      "33 ---- 1.002614297146186\n",
      "34 ---- 3.090360754579815\n",
      "35 ---- 2.806742016766425\n",
      "36 ---- 20.051389542378324\n",
      "36 ---- 15.597122276269772\n",
      "36 ---- 1.8657391488648465\n",
      "37 ---- 1.576246717505513\n",
      "38 ---- 1.9465849183379111\n",
      "39 ---- 4.2505109662853515\n",
      "40 ---- 9.730408334693593\n"
     ]
    }
   ],
   "source": [
    "for i in range(0, total_columns):\n",
    "    vif_value = variance_inflation_factor(vif_data, column_index)\n",
    "    print(column_index, '----', vif_value)\n",
    "\n",
    "    if vif_value <=6: \n",
    "        columns_to_be_kept.append(numeric_columns[i])\n",
    "        column_index = column_index+1\n",
    "    else:\n",
    "        vif_data = vif_data.drop([numeric_columns[i]], axis=1)    "
   ]
  },
  {
   "cell_type": "code",
   "execution_count": 31,
   "id": "3d54d940-3931-4fbe-b996-7ae5bf615dc5",
   "metadata": {},
   "outputs": [
    {
     "data": {
      "text/plain": [
       "40"
      ]
     },
     "execution_count": 31,
     "metadata": {},
     "output_type": "execute_result"
    }
   ],
   "source": [
    "len(columns_to_be_kept)"
   ]
  },
  {
   "cell_type": "code",
   "execution_count": 32,
   "id": "0c1010bc-3836-475b-8ae9-4b26501a262d",
   "metadata": {},
   "outputs": [],
   "source": [
    "# For numerical - we have to use ANOVA Test\n",
    "from scipy.stats import f_oneway"
   ]
  },
  {
   "cell_type": "code",
   "execution_count": 33,
   "id": "fad7bc38-1fdd-4475-8986-5efb40c58ad9",
   "metadata": {},
   "outputs": [],
   "source": [
    "columns_to_be_kept_numerical = []\n",
    "\n",
    "for i in columns_to_be_kept:\n",
    "    a = list(df[i])\n",
    "    b = list(df['Approved_Flag'])\n",
    "\n",
    "    group_p1 = [value for value, group in zip(a,b) if group=='P1']\n",
    "    group_p2 = [value for value, group in zip(a,b) if group=='P2']\n",
    "    group_p3 = [value for value, group in zip(a,b) if group=='P3']\n",
    "    group_p4 = [value for value, group in zip(a,b) if group=='P4']\n",
    "\n",
    "    f_statistic, p_value = f_oneway(group_p1, group_p2, group_p3, group_p4)\n",
    "    if p_value <=0.05:\n",
    "        columns_to_be_kept_numerical.append(i)"
   ]
  },
  {
   "cell_type": "code",
   "execution_count": 34,
   "id": "6ecbcbd3-9612-4a36-b6d0-512f00fcc34c",
   "metadata": {},
   "outputs": [
    {
     "data": {
      "text/plain": [
       "38"
      ]
     },
     "execution_count": 34,
     "metadata": {},
     "output_type": "execute_result"
    }
   ],
   "source": [
    "len(columns_to_be_kept_numerical)"
   ]
  },
  {
   "cell_type": "code",
   "execution_count": 35,
   "id": "bfd659ae-cbd7-460b-aaab-90b7cb45c4c3",
   "metadata": {},
   "outputs": [
    {
     "data": {
      "text/plain": [
       "['pct_tl_open_L6M',\n",
       " 'pct_tl_closed_L6M',\n",
       " 'Tot_TL_closed_L12M',\n",
       " 'Tot_Missed_Pmnt',\n",
       " 'CC_TL',\n",
       " 'Home_TL',\n",
       " 'PL_TL',\n",
       " 'Secured_TL',\n",
       " 'Unsecured_TL',\n",
       " 'Other_TL',\n",
       " 'Age_Oldest_TL',\n",
       " 'Age_Newest_TL',\n",
       " 'time_since_recent_payment',\n",
       " 'max_recent_level_of_deliq',\n",
       " 'num_deliq_6_12mts',\n",
       " 'max_deliq_12mts',\n",
       " 'num_times_60p_dpd',\n",
       " 'num_std_12mts',\n",
       " 'num_sub',\n",
       " 'num_sub_6mts',\n",
       " 'num_sub_12mts',\n",
       " 'num_dbt',\n",
       " 'num_dbt_12mts',\n",
       " 'num_lss',\n",
       " 'num_lss_12mts',\n",
       " 'recent_level_of_deliq',\n",
       " 'CC_enq_L12m',\n",
       " 'PL_enq_L12m',\n",
       " 'time_since_recent_enq',\n",
       " 'enq_L3m',\n",
       " 'NETMONTHLYINCOME',\n",
       " 'Time_With_Curr_Empr',\n",
       " 'CC_Flag',\n",
       " 'PL_Flag',\n",
       " 'pct_PL_enq_L6m_of_ever',\n",
       " 'pct_CC_enq_L6m_of_ever',\n",
       " 'HL_Flag',\n",
       " 'GL_Flag']"
      ]
     },
     "execution_count": 35,
     "metadata": {},
     "output_type": "execute_result"
    }
   ],
   "source": [
    "columns_to_be_kept_numerical"
   ]
  },
  {
   "cell_type": "code",
   "execution_count": 36,
   "id": "e6b9575c-9fdb-4070-b499-3c6552a08660",
   "metadata": {},
   "outputs": [],
   "source": [
    "# Final features\n",
    "features = columns_to_be_kept_numerical + ['MARITALSTATUS', 'EDUCATION', 'GENDER', 'last_prod_enq2', 'first_prod_enq2']"
   ]
  },
  {
   "cell_type": "code",
   "execution_count": 37,
   "id": "4bb53361-6df0-4e57-86fa-d59e4e565af3",
   "metadata": {},
   "outputs": [],
   "source": [
    "df = df[features + ['Approved_Flag']]"
   ]
  },
  {
   "cell_type": "code",
   "execution_count": 38,
   "id": "0f066415-4817-4066-80c0-d23e5035e90c",
   "metadata": {},
   "outputs": [
    {
     "data": {
      "text/plain": [
       "(35579, 44)"
      ]
     },
     "execution_count": 38,
     "metadata": {},
     "output_type": "execute_result"
    }
   ],
   "source": [
    "df.shape"
   ]
  },
  {
   "cell_type": "code",
   "execution_count": 39,
   "id": "4a0acce3-b11b-417e-bf7b-ab18fed4ad4d",
   "metadata": {},
   "outputs": [
    {
     "data": {
      "text/plain": [
       "array(['Single', 'Married'], dtype=object)"
      ]
     },
     "execution_count": 39,
     "metadata": {},
     "output_type": "execute_result"
    }
   ],
   "source": [
    "# 'MARITALSTATUS', 'EDUCATION', 'GENDER', 'last_prod_enq2', 'first_prod_enq2'\n",
    "df['MARITALSTATUS'].unique()"
   ]
  },
  {
   "cell_type": "code",
   "execution_count": 40,
   "id": "b871a9d9-d7a8-4957-a3b8-ab7864d43965",
   "metadata": {},
   "outputs": [
    {
     "data": {
      "text/plain": [
       "array(['GRADUATE', 'SSC', '12TH', 'UNDER GRADUATE', 'POST-GRADUATE',\n",
       "       'OTHERS', 'PROFESSIONAL'], dtype=object)"
      ]
     },
     "execution_count": 40,
     "metadata": {},
     "output_type": "execute_result"
    }
   ],
   "source": [
    "df['EDUCATION'].unique()"
   ]
  },
  {
   "cell_type": "code",
   "execution_count": 41,
   "id": "1943cbd7-f2d9-43be-a0de-7728149650dd",
   "metadata": {},
   "outputs": [],
   "source": [
    "df.loc[df['EDUCATION']=='SSC',['EDUCATION']] = 1\n",
    "df.loc[df['EDUCATION']=='12TH',['EDUCATION']] = 2\n",
    "df.loc[df['EDUCATION']=='UNDER GRADUATE',['EDUCATION']] = 3\n",
    "df.loc[df['EDUCATION']=='GRADUATE',['EDUCATION']] = 3\n",
    "df.loc[df['EDUCATION']=='POST-GRADUATE',['EDUCATION']] = 4\n",
    "df.loc[df['EDUCATION']=='PROFESSIONAL',['EDUCATION']] = 3\n",
    "df.loc[df['EDUCATION']=='OTHERS',['EDUCATION']] = 1"
   ]
  },
  {
   "cell_type": "code",
   "execution_count": 42,
   "id": "8695dc79-2926-4e35-8a9c-23ddc720c4a3",
   "metadata": {},
   "outputs": [
    {
     "data": {
      "text/plain": [
       "EDUCATION\n",
       "3    16172\n",
       "2     9756\n",
       "1     8047\n",
       "4     1604\n",
       "Name: count, dtype: int64"
      ]
     },
     "execution_count": 42,
     "metadata": {},
     "output_type": "execute_result"
    }
   ],
   "source": [
    "df['EDUCATION'].value_counts()"
   ]
  },
  {
   "cell_type": "code",
   "execution_count": 43,
   "id": "7d4b71a1-da43-4265-b66d-8b87a2bb9fe4",
   "metadata": {},
   "outputs": [
    {
     "name": "stdout",
     "output_type": "stream",
     "text": [
      "<class 'pandas.core.frame.DataFrame'>\n",
      "RangeIndex: 35579 entries, 0 to 35578\n",
      "Data columns (total 44 columns):\n",
      " #   Column                     Non-Null Count  Dtype  \n",
      "---  ------                     --------------  -----  \n",
      " 0   pct_tl_open_L6M            35579 non-null  float64\n",
      " 1   pct_tl_closed_L6M          35579 non-null  float64\n",
      " 2   Tot_TL_closed_L12M         35579 non-null  int64  \n",
      " 3   Tot_Missed_Pmnt            35579 non-null  int64  \n",
      " 4   CC_TL                      35579 non-null  int64  \n",
      " 5   Home_TL                    35579 non-null  int64  \n",
      " 6   PL_TL                      35579 non-null  int64  \n",
      " 7   Secured_TL                 35579 non-null  int64  \n",
      " 8   Unsecured_TL               35579 non-null  int64  \n",
      " 9   Other_TL                   35579 non-null  int64  \n",
      " 10  Age_Oldest_TL              35579 non-null  int64  \n",
      " 11  Age_Newest_TL              35579 non-null  int64  \n",
      " 12  time_since_recent_payment  35579 non-null  int64  \n",
      " 13  max_recent_level_of_deliq  35579 non-null  int64  \n",
      " 14  num_deliq_6_12mts          35579 non-null  int64  \n",
      " 15  max_deliq_12mts            35579 non-null  int64  \n",
      " 16  num_times_60p_dpd          35579 non-null  int64  \n",
      " 17  num_std_12mts              35579 non-null  int64  \n",
      " 18  num_sub                    35579 non-null  int64  \n",
      " 19  num_sub_6mts               35579 non-null  int64  \n",
      " 20  num_sub_12mts              35579 non-null  int64  \n",
      " 21  num_dbt                    35579 non-null  int64  \n",
      " 22  num_dbt_12mts              35579 non-null  int64  \n",
      " 23  num_lss                    35579 non-null  int64  \n",
      " 24  num_lss_12mts              35579 non-null  int64  \n",
      " 25  recent_level_of_deliq      35579 non-null  int64  \n",
      " 26  CC_enq_L12m                35579 non-null  int64  \n",
      " 27  PL_enq_L12m                35579 non-null  int64  \n",
      " 28  time_since_recent_enq      35579 non-null  int64  \n",
      " 29  enq_L3m                    35579 non-null  int64  \n",
      " 30  NETMONTHLYINCOME           35579 non-null  int64  \n",
      " 31  Time_With_Curr_Empr        35579 non-null  int64  \n",
      " 32  CC_Flag                    35579 non-null  int64  \n",
      " 33  PL_Flag                    35579 non-null  int64  \n",
      " 34  pct_PL_enq_L6m_of_ever     35579 non-null  float64\n",
      " 35  pct_CC_enq_L6m_of_ever     35579 non-null  float64\n",
      " 36  HL_Flag                    35579 non-null  int64  \n",
      " 37  GL_Flag                    35579 non-null  int64  \n",
      " 38  MARITALSTATUS              35579 non-null  object \n",
      " 39  EDUCATION                  35579 non-null  int32  \n",
      " 40  GENDER                     35579 non-null  object \n",
      " 41  last_prod_enq2             35579 non-null  object \n",
      " 42  first_prod_enq2            35579 non-null  object \n",
      " 43  Approved_Flag              35579 non-null  object \n",
      "dtypes: float64(4), int32(1), int64(34), object(5)\n",
      "memory usage: 11.8+ MB\n"
     ]
    }
   ],
   "source": [
    "df['EDUCATION'] = df['EDUCATION'].astype(int)\n",
    "df.info()"
   ]
  },
  {
   "cell_type": "code",
   "execution_count": 44,
   "id": "985b4882-e5ec-4a05-8c1b-5add78335df3",
   "metadata": {},
   "outputs": [
    {
     "data": {
      "text/plain": [
       "array(['F', 'M'], dtype=object)"
      ]
     },
     "execution_count": 44,
     "metadata": {},
     "output_type": "execute_result"
    }
   ],
   "source": [
    "df['GENDER'].unique()"
   ]
  },
  {
   "cell_type": "code",
   "execution_count": 45,
   "id": "78e35b30-ab72-440b-ac0c-b092523ec158",
   "metadata": {},
   "outputs": [
    {
     "data": {
      "text/plain": [
       "array(['ConsumerLoan', 'CC', 'others', 'PL', 'HL', 'AL'], dtype=object)"
      ]
     },
     "execution_count": 45,
     "metadata": {},
     "output_type": "execute_result"
    }
   ],
   "source": [
    "df['last_prod_enq2'].unique()"
   ]
  },
  {
   "cell_type": "code",
   "execution_count": 46,
   "id": "ee4679d4-a100-44f3-a8f1-8d8aae5f4e21",
   "metadata": {},
   "outputs": [
    {
     "data": {
      "text/plain": [
       "array(['ConsumerLoan', 'others', 'PL', 'HL', 'CC', 'AL'], dtype=object)"
      ]
     },
     "execution_count": 46,
     "metadata": {},
     "output_type": "execute_result"
    }
   ],
   "source": [
    "df['first_prod_enq2'].unique()"
   ]
  },
  {
   "cell_type": "code",
   "execution_count": 47,
   "id": "3af65b0f-ac2b-4736-bf40-78b1eb7d6dd8",
   "metadata": {},
   "outputs": [],
   "source": [
    "df_encoded = pd.get_dummies(df, columns=['MARITALSTATUS', 'GENDER', 'last_prod_enq2', 'first_prod_enq2'])"
   ]
  },
  {
   "cell_type": "code",
   "execution_count": 48,
   "id": "3ad7bc75-5de0-4269-aec4-a938ccc55b6f",
   "metadata": {},
   "outputs": [
    {
     "name": "stdout",
     "output_type": "stream",
     "text": [
      "<class 'pandas.core.frame.DataFrame'>\n",
      "RangeIndex: 35579 entries, 0 to 35578\n",
      "Data columns (total 56 columns):\n",
      " #   Column                        Non-Null Count  Dtype  \n",
      "---  ------                        --------------  -----  \n",
      " 0   pct_tl_open_L6M               35579 non-null  float64\n",
      " 1   pct_tl_closed_L6M             35579 non-null  float64\n",
      " 2   Tot_TL_closed_L12M            35579 non-null  int64  \n",
      " 3   Tot_Missed_Pmnt               35579 non-null  int64  \n",
      " 4   CC_TL                         35579 non-null  int64  \n",
      " 5   Home_TL                       35579 non-null  int64  \n",
      " 6   PL_TL                         35579 non-null  int64  \n",
      " 7   Secured_TL                    35579 non-null  int64  \n",
      " 8   Unsecured_TL                  35579 non-null  int64  \n",
      " 9   Other_TL                      35579 non-null  int64  \n",
      " 10  Age_Oldest_TL                 35579 non-null  int64  \n",
      " 11  Age_Newest_TL                 35579 non-null  int64  \n",
      " 12  time_since_recent_payment     35579 non-null  int64  \n",
      " 13  max_recent_level_of_deliq     35579 non-null  int64  \n",
      " 14  num_deliq_6_12mts             35579 non-null  int64  \n",
      " 15  max_deliq_12mts               35579 non-null  int64  \n",
      " 16  num_times_60p_dpd             35579 non-null  int64  \n",
      " 17  num_std_12mts                 35579 non-null  int64  \n",
      " 18  num_sub                       35579 non-null  int64  \n",
      " 19  num_sub_6mts                  35579 non-null  int64  \n",
      " 20  num_sub_12mts                 35579 non-null  int64  \n",
      " 21  num_dbt                       35579 non-null  int64  \n",
      " 22  num_dbt_12mts                 35579 non-null  int64  \n",
      " 23  num_lss                       35579 non-null  int64  \n",
      " 24  num_lss_12mts                 35579 non-null  int64  \n",
      " 25  recent_level_of_deliq         35579 non-null  int64  \n",
      " 26  CC_enq_L12m                   35579 non-null  int64  \n",
      " 27  PL_enq_L12m                   35579 non-null  int64  \n",
      " 28  time_since_recent_enq         35579 non-null  int64  \n",
      " 29  enq_L3m                       35579 non-null  int64  \n",
      " 30  NETMONTHLYINCOME              35579 non-null  int64  \n",
      " 31  Time_With_Curr_Empr           35579 non-null  int64  \n",
      " 32  CC_Flag                       35579 non-null  int64  \n",
      " 33  PL_Flag                       35579 non-null  int64  \n",
      " 34  pct_PL_enq_L6m_of_ever        35579 non-null  float64\n",
      " 35  pct_CC_enq_L6m_of_ever        35579 non-null  float64\n",
      " 36  HL_Flag                       35579 non-null  int64  \n",
      " 37  GL_Flag                       35579 non-null  int64  \n",
      " 38  EDUCATION                     35579 non-null  int32  \n",
      " 39  Approved_Flag                 35579 non-null  object \n",
      " 40  MARITALSTATUS_Married         35579 non-null  bool   \n",
      " 41  MARITALSTATUS_Single          35579 non-null  bool   \n",
      " 42  GENDER_F                      35579 non-null  bool   \n",
      " 43  GENDER_M                      35579 non-null  bool   \n",
      " 44  last_prod_enq2_AL             35579 non-null  bool   \n",
      " 45  last_prod_enq2_CC             35579 non-null  bool   \n",
      " 46  last_prod_enq2_ConsumerLoan   35579 non-null  bool   \n",
      " 47  last_prod_enq2_HL             35579 non-null  bool   \n",
      " 48  last_prod_enq2_PL             35579 non-null  bool   \n",
      " 49  last_prod_enq2_others         35579 non-null  bool   \n",
      " 50  first_prod_enq2_AL            35579 non-null  bool   \n",
      " 51  first_prod_enq2_CC            35579 non-null  bool   \n",
      " 52  first_prod_enq2_ConsumerLoan  35579 non-null  bool   \n",
      " 53  first_prod_enq2_HL            35579 non-null  bool   \n",
      " 54  first_prod_enq2_PL            35579 non-null  bool   \n",
      " 55  first_prod_enq2_others        35579 non-null  bool   \n",
      "dtypes: bool(16), float64(4), int32(1), int64(34), object(1)\n",
      "memory usage: 11.3+ MB\n"
     ]
    }
   ],
   "source": [
    "df_encoded.info()"
   ]
  },
  {
   "cell_type": "code",
   "execution_count": 49,
   "id": "8ff8a0a6-923b-441b-9119-d9f124698007",
   "metadata": {},
   "outputs": [],
   "source": [
    "k = df_encoded.describe()"
   ]
  },
  {
   "cell_type": "code",
   "execution_count": 50,
   "id": "e45ffd1c-b2ae-4aeb-8ae6-38dda789797a",
   "metadata": {},
   "outputs": [
    {
     "data": {
      "text/html": [
       "<div>\n",
       "<style scoped>\n",
       "    .dataframe tbody tr th:only-of-type {\n",
       "        vertical-align: middle;\n",
       "    }\n",
       "\n",
       "    .dataframe tbody tr th {\n",
       "        vertical-align: top;\n",
       "    }\n",
       "\n",
       "    .dataframe thead th {\n",
       "        text-align: right;\n",
       "    }\n",
       "</style>\n",
       "<table border=\"1\" class=\"dataframe\">\n",
       "  <thead>\n",
       "    <tr style=\"text-align: right;\">\n",
       "      <th></th>\n",
       "      <th>pct_tl_open_L6M</th>\n",
       "      <th>pct_tl_closed_L6M</th>\n",
       "      <th>Tot_TL_closed_L12M</th>\n",
       "      <th>Tot_Missed_Pmnt</th>\n",
       "      <th>CC_TL</th>\n",
       "      <th>Home_TL</th>\n",
       "      <th>PL_TL</th>\n",
       "      <th>Secured_TL</th>\n",
       "      <th>Unsecured_TL</th>\n",
       "      <th>Other_TL</th>\n",
       "      <th>...</th>\n",
       "      <th>enq_L3m</th>\n",
       "      <th>NETMONTHLYINCOME</th>\n",
       "      <th>Time_With_Curr_Empr</th>\n",
       "      <th>CC_Flag</th>\n",
       "      <th>PL_Flag</th>\n",
       "      <th>pct_PL_enq_L6m_of_ever</th>\n",
       "      <th>pct_CC_enq_L6m_of_ever</th>\n",
       "      <th>HL_Flag</th>\n",
       "      <th>GL_Flag</th>\n",
       "      <th>EDUCATION</th>\n",
       "    </tr>\n",
       "  </thead>\n",
       "  <tbody>\n",
       "    <tr>\n",
       "      <th>count</th>\n",
       "      <td>35579.000000</td>\n",
       "      <td>35579.000000</td>\n",
       "      <td>35579.000000</td>\n",
       "      <td>35579.000000</td>\n",
       "      <td>35579.000000</td>\n",
       "      <td>35579.000000</td>\n",
       "      <td>35579.000000</td>\n",
       "      <td>35579.000000</td>\n",
       "      <td>35579.000000</td>\n",
       "      <td>35579.000000</td>\n",
       "      <td>...</td>\n",
       "      <td>35579.000000</td>\n",
       "      <td>3.557900e+04</td>\n",
       "      <td>35579.000000</td>\n",
       "      <td>35579.000000</td>\n",
       "      <td>35579.000000</td>\n",
       "      <td>35579.000000</td>\n",
       "      <td>35579.000000</td>\n",
       "      <td>35579.000000</td>\n",
       "      <td>35579.000000</td>\n",
       "      <td>35579.000000</td>\n",
       "    </tr>\n",
       "    <tr>\n",
       "      <th>mean</th>\n",
       "      <td>0.200989</td>\n",
       "      <td>0.109181</td>\n",
       "      <td>0.938110</td>\n",
       "      <td>0.592119</td>\n",
       "      <td>0.170831</td>\n",
       "      <td>0.080666</td>\n",
       "      <td>0.349785</td>\n",
       "      <td>2.993564</td>\n",
       "      <td>2.659996</td>\n",
       "      <td>1.188370</td>\n",
       "      <td>...</td>\n",
       "      <td>1.308890</td>\n",
       "      <td>2.723659e+04</td>\n",
       "      <td>108.906490</td>\n",
       "      <td>0.120183</td>\n",
       "      <td>0.206217</td>\n",
       "      <td>0.211490</td>\n",
       "      <td>0.071921</td>\n",
       "      <td>0.245117</td>\n",
       "      <td>0.059867</td>\n",
       "      <td>2.318531</td>\n",
       "    </tr>\n",
       "    <tr>\n",
       "      <th>std</th>\n",
       "      <td>0.284536</td>\n",
       "      <td>0.217417</td>\n",
       "      <td>1.620181</td>\n",
       "      <td>1.159504</td>\n",
       "      <td>0.592211</td>\n",
       "      <td>0.369539</td>\n",
       "      <td>0.946365</td>\n",
       "      <td>6.558166</td>\n",
       "      <td>3.579309</td>\n",
       "      <td>2.594753</td>\n",
       "      <td>...</td>\n",
       "      <td>2.175757</td>\n",
       "      <td>2.187316e+04</td>\n",
       "      <td>74.565352</td>\n",
       "      <td>0.325180</td>\n",
       "      <td>0.404594</td>\n",
       "      <td>0.376545</td>\n",
       "      <td>0.237500</td>\n",
       "      <td>0.430162</td>\n",
       "      <td>0.237243</td>\n",
       "      <td>0.871551</td>\n",
       "    </tr>\n",
       "    <tr>\n",
       "      <th>min</th>\n",
       "      <td>0.000000</td>\n",
       "      <td>0.000000</td>\n",
       "      <td>0.000000</td>\n",
       "      <td>0.000000</td>\n",
       "      <td>0.000000</td>\n",
       "      <td>0.000000</td>\n",
       "      <td>0.000000</td>\n",
       "      <td>0.000000</td>\n",
       "      <td>0.000000</td>\n",
       "      <td>0.000000</td>\n",
       "      <td>...</td>\n",
       "      <td>0.000000</td>\n",
       "      <td>0.000000e+00</td>\n",
       "      <td>0.000000</td>\n",
       "      <td>0.000000</td>\n",
       "      <td>0.000000</td>\n",
       "      <td>0.000000</td>\n",
       "      <td>0.000000</td>\n",
       "      <td>0.000000</td>\n",
       "      <td>0.000000</td>\n",
       "      <td>1.000000</td>\n",
       "    </tr>\n",
       "    <tr>\n",
       "      <th>25%</th>\n",
       "      <td>0.000000</td>\n",
       "      <td>0.000000</td>\n",
       "      <td>0.000000</td>\n",
       "      <td>0.000000</td>\n",
       "      <td>0.000000</td>\n",
       "      <td>0.000000</td>\n",
       "      <td>0.000000</td>\n",
       "      <td>0.000000</td>\n",
       "      <td>1.000000</td>\n",
       "      <td>0.000000</td>\n",
       "      <td>...</td>\n",
       "      <td>0.000000</td>\n",
       "      <td>1.800000e+04</td>\n",
       "      <td>60.000000</td>\n",
       "      <td>0.000000</td>\n",
       "      <td>0.000000</td>\n",
       "      <td>0.000000</td>\n",
       "      <td>0.000000</td>\n",
       "      <td>0.000000</td>\n",
       "      <td>0.000000</td>\n",
       "      <td>2.000000</td>\n",
       "    </tr>\n",
       "    <tr>\n",
       "      <th>50%</th>\n",
       "      <td>0.000000</td>\n",
       "      <td>0.000000</td>\n",
       "      <td>0.000000</td>\n",
       "      <td>0.000000</td>\n",
       "      <td>0.000000</td>\n",
       "      <td>0.000000</td>\n",
       "      <td>0.000000</td>\n",
       "      <td>1.000000</td>\n",
       "      <td>2.000000</td>\n",
       "      <td>0.000000</td>\n",
       "      <td>...</td>\n",
       "      <td>1.000000</td>\n",
       "      <td>2.450000e+04</td>\n",
       "      <td>90.000000</td>\n",
       "      <td>0.000000</td>\n",
       "      <td>0.000000</td>\n",
       "      <td>0.000000</td>\n",
       "      <td>0.000000</td>\n",
       "      <td>0.000000</td>\n",
       "      <td>0.000000</td>\n",
       "      <td>2.000000</td>\n",
       "    </tr>\n",
       "    <tr>\n",
       "      <th>75%</th>\n",
       "      <td>0.333000</td>\n",
       "      <td>0.143000</td>\n",
       "      <td>1.000000</td>\n",
       "      <td>1.000000</td>\n",
       "      <td>0.000000</td>\n",
       "      <td>0.000000</td>\n",
       "      <td>0.000000</td>\n",
       "      <td>3.000000</td>\n",
       "      <td>3.000000</td>\n",
       "      <td>1.000000</td>\n",
       "      <td>...</td>\n",
       "      <td>2.000000</td>\n",
       "      <td>3.200000e+04</td>\n",
       "      <td>131.000000</td>\n",
       "      <td>0.000000</td>\n",
       "      <td>0.000000</td>\n",
       "      <td>0.333000</td>\n",
       "      <td>0.000000</td>\n",
       "      <td>0.000000</td>\n",
       "      <td>0.000000</td>\n",
       "      <td>3.000000</td>\n",
       "    </tr>\n",
       "    <tr>\n",
       "      <th>max</th>\n",
       "      <td>1.000000</td>\n",
       "      <td>1.000000</td>\n",
       "      <td>33.000000</td>\n",
       "      <td>34.000000</td>\n",
       "      <td>27.000000</td>\n",
       "      <td>10.000000</td>\n",
       "      <td>29.000000</td>\n",
       "      <td>235.000000</td>\n",
       "      <td>55.000000</td>\n",
       "      <td>80.000000</td>\n",
       "      <td>...</td>\n",
       "      <td>42.000000</td>\n",
       "      <td>2.500000e+06</td>\n",
       "      <td>1020.000000</td>\n",
       "      <td>1.000000</td>\n",
       "      <td>1.000000</td>\n",
       "      <td>1.000000</td>\n",
       "      <td>1.000000</td>\n",
       "      <td>1.000000</td>\n",
       "      <td>1.000000</td>\n",
       "      <td>4.000000</td>\n",
       "    </tr>\n",
       "  </tbody>\n",
       "</table>\n",
       "<p>8 rows × 39 columns</p>\n",
       "</div>"
      ],
      "text/plain": [
       "       pct_tl_open_L6M  pct_tl_closed_L6M  Tot_TL_closed_L12M  \\\n",
       "count     35579.000000       35579.000000        35579.000000   \n",
       "mean          0.200989           0.109181            0.938110   \n",
       "std           0.284536           0.217417            1.620181   \n",
       "min           0.000000           0.000000            0.000000   \n",
       "25%           0.000000           0.000000            0.000000   \n",
       "50%           0.000000           0.000000            0.000000   \n",
       "75%           0.333000           0.143000            1.000000   \n",
       "max           1.000000           1.000000           33.000000   \n",
       "\n",
       "       Tot_Missed_Pmnt         CC_TL       Home_TL         PL_TL  \\\n",
       "count     35579.000000  35579.000000  35579.000000  35579.000000   \n",
       "mean          0.592119      0.170831      0.080666      0.349785   \n",
       "std           1.159504      0.592211      0.369539      0.946365   \n",
       "min           0.000000      0.000000      0.000000      0.000000   \n",
       "25%           0.000000      0.000000      0.000000      0.000000   \n",
       "50%           0.000000      0.000000      0.000000      0.000000   \n",
       "75%           1.000000      0.000000      0.000000      0.000000   \n",
       "max          34.000000     27.000000     10.000000     29.000000   \n",
       "\n",
       "         Secured_TL  Unsecured_TL      Other_TL  ...       enq_L3m  \\\n",
       "count  35579.000000  35579.000000  35579.000000  ...  35579.000000   \n",
       "mean       2.993564      2.659996      1.188370  ...      1.308890   \n",
       "std        6.558166      3.579309      2.594753  ...      2.175757   \n",
       "min        0.000000      0.000000      0.000000  ...      0.000000   \n",
       "25%        0.000000      1.000000      0.000000  ...      0.000000   \n",
       "50%        1.000000      2.000000      0.000000  ...      1.000000   \n",
       "75%        3.000000      3.000000      1.000000  ...      2.000000   \n",
       "max      235.000000     55.000000     80.000000  ...     42.000000   \n",
       "\n",
       "       NETMONTHLYINCOME  Time_With_Curr_Empr       CC_Flag       PL_Flag  \\\n",
       "count      3.557900e+04         35579.000000  35579.000000  35579.000000   \n",
       "mean       2.723659e+04           108.906490      0.120183      0.206217   \n",
       "std        2.187316e+04            74.565352      0.325180      0.404594   \n",
       "min        0.000000e+00             0.000000      0.000000      0.000000   \n",
       "25%        1.800000e+04            60.000000      0.000000      0.000000   \n",
       "50%        2.450000e+04            90.000000      0.000000      0.000000   \n",
       "75%        3.200000e+04           131.000000      0.000000      0.000000   \n",
       "max        2.500000e+06          1020.000000      1.000000      1.000000   \n",
       "\n",
       "       pct_PL_enq_L6m_of_ever  pct_CC_enq_L6m_of_ever       HL_Flag  \\\n",
       "count            35579.000000            35579.000000  35579.000000   \n",
       "mean                 0.211490                0.071921      0.245117   \n",
       "std                  0.376545                0.237500      0.430162   \n",
       "min                  0.000000                0.000000      0.000000   \n",
       "25%                  0.000000                0.000000      0.000000   \n",
       "50%                  0.000000                0.000000      0.000000   \n",
       "75%                  0.333000                0.000000      0.000000   \n",
       "max                  1.000000                1.000000      1.000000   \n",
       "\n",
       "            GL_Flag     EDUCATION  \n",
       "count  35579.000000  35579.000000  \n",
       "mean       0.059867      2.318531  \n",
       "std        0.237243      0.871551  \n",
       "min        0.000000      1.000000  \n",
       "25%        0.000000      2.000000  \n",
       "50%        0.000000      2.000000  \n",
       "75%        0.000000      3.000000  \n",
       "max        1.000000      4.000000  \n",
       "\n",
       "[8 rows x 39 columns]"
      ]
     },
     "execution_count": 50,
     "metadata": {},
     "output_type": "execute_result"
    }
   ],
   "source": [
    "k"
   ]
  },
  {
   "cell_type": "code",
   "execution_count": 51,
   "id": "c50d5782-4dbd-484a-84b8-4672d87b7d00",
   "metadata": {},
   "outputs": [],
   "source": [
    "df_encoded = df_encoded.drop(['MARITALSTATUS_Married','GENDER_F','last_prod_enq2_AL', 'first_prod_enq2_AL'], axis=1)"
   ]
  },
  {
   "cell_type": "code",
   "execution_count": 52,
   "id": "1838f661-b3c9-4539-86e4-7620ea608d18",
   "metadata": {},
   "outputs": [
    {
     "data": {
      "text/plain": [
       "(35579, 52)"
      ]
     },
     "execution_count": 52,
     "metadata": {},
     "output_type": "execute_result"
    }
   ],
   "source": [
    "df_encoded.shape"
   ]
  },
  {
   "cell_type": "code",
   "execution_count": 53,
   "id": "471ccb2d-a5e0-427c-9287-d5f92601e15c",
   "metadata": {},
   "outputs": [
    {
     "data": {
      "text/html": [
       "<div>\n",
       "<style scoped>\n",
       "    .dataframe tbody tr th:only-of-type {\n",
       "        vertical-align: middle;\n",
       "    }\n",
       "\n",
       "    .dataframe tbody tr th {\n",
       "        vertical-align: top;\n",
       "    }\n",
       "\n",
       "    .dataframe thead th {\n",
       "        text-align: right;\n",
       "    }\n",
       "</style>\n",
       "<table border=\"1\" class=\"dataframe\">\n",
       "  <thead>\n",
       "    <tr style=\"text-align: right;\">\n",
       "      <th></th>\n",
       "      <th>pct_tl_open_L6M</th>\n",
       "      <th>pct_tl_closed_L6M</th>\n",
       "      <th>Tot_TL_closed_L12M</th>\n",
       "      <th>Tot_Missed_Pmnt</th>\n",
       "      <th>CC_TL</th>\n",
       "      <th>Home_TL</th>\n",
       "      <th>PL_TL</th>\n",
       "      <th>Secured_TL</th>\n",
       "      <th>Unsecured_TL</th>\n",
       "      <th>Other_TL</th>\n",
       "      <th>...</th>\n",
       "      <th>last_prod_enq2_CC</th>\n",
       "      <th>last_prod_enq2_ConsumerLoan</th>\n",
       "      <th>last_prod_enq2_HL</th>\n",
       "      <th>last_prod_enq2_PL</th>\n",
       "      <th>last_prod_enq2_others</th>\n",
       "      <th>first_prod_enq2_CC</th>\n",
       "      <th>first_prod_enq2_ConsumerLoan</th>\n",
       "      <th>first_prod_enq2_HL</th>\n",
       "      <th>first_prod_enq2_PL</th>\n",
       "      <th>first_prod_enq2_others</th>\n",
       "    </tr>\n",
       "  </thead>\n",
       "  <tbody>\n",
       "    <tr>\n",
       "      <th>0</th>\n",
       "      <td>0.000</td>\n",
       "      <td>0.0</td>\n",
       "      <td>0</td>\n",
       "      <td>0</td>\n",
       "      <td>0</td>\n",
       "      <td>0</td>\n",
       "      <td>0</td>\n",
       "      <td>0</td>\n",
       "      <td>1</td>\n",
       "      <td>0</td>\n",
       "      <td>...</td>\n",
       "      <td>False</td>\n",
       "      <td>True</td>\n",
       "      <td>False</td>\n",
       "      <td>False</td>\n",
       "      <td>False</td>\n",
       "      <td>False</td>\n",
       "      <td>True</td>\n",
       "      <td>False</td>\n",
       "      <td>False</td>\n",
       "      <td>False</td>\n",
       "    </tr>\n",
       "    <tr>\n",
       "      <th>1</th>\n",
       "      <td>0.125</td>\n",
       "      <td>0.0</td>\n",
       "      <td>0</td>\n",
       "      <td>1</td>\n",
       "      <td>0</td>\n",
       "      <td>0</td>\n",
       "      <td>0</td>\n",
       "      <td>2</td>\n",
       "      <td>6</td>\n",
       "      <td>0</td>\n",
       "      <td>...</td>\n",
       "      <td>False</td>\n",
       "      <td>True</td>\n",
       "      <td>False</td>\n",
       "      <td>False</td>\n",
       "      <td>False</td>\n",
       "      <td>False</td>\n",
       "      <td>False</td>\n",
       "      <td>False</td>\n",
       "      <td>False</td>\n",
       "      <td>True</td>\n",
       "    </tr>\n",
       "    <tr>\n",
       "      <th>2</th>\n",
       "      <td>0.000</td>\n",
       "      <td>0.0</td>\n",
       "      <td>1</td>\n",
       "      <td>0</td>\n",
       "      <td>0</td>\n",
       "      <td>0</td>\n",
       "      <td>0</td>\n",
       "      <td>6</td>\n",
       "      <td>0</td>\n",
       "      <td>0</td>\n",
       "      <td>...</td>\n",
       "      <td>False</td>\n",
       "      <td>True</td>\n",
       "      <td>False</td>\n",
       "      <td>False</td>\n",
       "      <td>False</td>\n",
       "      <td>False</td>\n",
       "      <td>False</td>\n",
       "      <td>False</td>\n",
       "      <td>True</td>\n",
       "      <td>False</td>\n",
       "    </tr>\n",
       "    <tr>\n",
       "      <th>3</th>\n",
       "      <td>0.000</td>\n",
       "      <td>0.0</td>\n",
       "      <td>2</td>\n",
       "      <td>0</td>\n",
       "      <td>0</td>\n",
       "      <td>0</td>\n",
       "      <td>0</td>\n",
       "      <td>6</td>\n",
       "      <td>0</td>\n",
       "      <td>5</td>\n",
       "      <td>...</td>\n",
       "      <td>False</td>\n",
       "      <td>True</td>\n",
       "      <td>False</td>\n",
       "      <td>False</td>\n",
       "      <td>False</td>\n",
       "      <td>False</td>\n",
       "      <td>False</td>\n",
       "      <td>False</td>\n",
       "      <td>False</td>\n",
       "      <td>True</td>\n",
       "    </tr>\n",
       "    <tr>\n",
       "      <th>4</th>\n",
       "      <td>0.000</td>\n",
       "      <td>0.0</td>\n",
       "      <td>0</td>\n",
       "      <td>0</td>\n",
       "      <td>0</td>\n",
       "      <td>0</td>\n",
       "      <td>0</td>\n",
       "      <td>1</td>\n",
       "      <td>0</td>\n",
       "      <td>0</td>\n",
       "      <td>...</td>\n",
       "      <td>False</td>\n",
       "      <td>True</td>\n",
       "      <td>False</td>\n",
       "      <td>False</td>\n",
       "      <td>False</td>\n",
       "      <td>False</td>\n",
       "      <td>False</td>\n",
       "      <td>False</td>\n",
       "      <td>False</td>\n",
       "      <td>True</td>\n",
       "    </tr>\n",
       "  </tbody>\n",
       "</table>\n",
       "<p>5 rows × 52 columns</p>\n",
       "</div>"
      ],
      "text/plain": [
       "   pct_tl_open_L6M  pct_tl_closed_L6M  Tot_TL_closed_L12M  Tot_Missed_Pmnt  \\\n",
       "0            0.000                0.0                   0                0   \n",
       "1            0.125                0.0                   0                1   \n",
       "2            0.000                0.0                   1                0   \n",
       "3            0.000                0.0                   2                0   \n",
       "4            0.000                0.0                   0                0   \n",
       "\n",
       "   CC_TL  Home_TL  PL_TL  Secured_TL  Unsecured_TL  Other_TL  ...  \\\n",
       "0      0        0      0           0             1         0  ...   \n",
       "1      0        0      0           2             6         0  ...   \n",
       "2      0        0      0           6             0         0  ...   \n",
       "3      0        0      0           6             0         5  ...   \n",
       "4      0        0      0           1             0         0  ...   \n",
       "\n",
       "   last_prod_enq2_CC  last_prod_enq2_ConsumerLoan  last_prod_enq2_HL  \\\n",
       "0              False                         True              False   \n",
       "1              False                         True              False   \n",
       "2              False                         True              False   \n",
       "3              False                         True              False   \n",
       "4              False                         True              False   \n",
       "\n",
       "   last_prod_enq2_PL  last_prod_enq2_others  first_prod_enq2_CC  \\\n",
       "0              False                  False               False   \n",
       "1              False                  False               False   \n",
       "2              False                  False               False   \n",
       "3              False                  False               False   \n",
       "4              False                  False               False   \n",
       "\n",
       "   first_prod_enq2_ConsumerLoan  first_prod_enq2_HL  first_prod_enq2_PL  \\\n",
       "0                          True               False               False   \n",
       "1                         False               False               False   \n",
       "2                         False               False                True   \n",
       "3                         False               False               False   \n",
       "4                         False               False               False   \n",
       "\n",
       "   first_prod_enq2_others  \n",
       "0                   False  \n",
       "1                    True  \n",
       "2                   False  \n",
       "3                    True  \n",
       "4                    True  \n",
       "\n",
       "[5 rows x 52 columns]"
      ]
     },
     "execution_count": 53,
     "metadata": {},
     "output_type": "execute_result"
    }
   ],
   "source": [
    "df_encoded.head()"
   ]
  },
  {
   "cell_type": "code",
   "execution_count": 155,
   "id": "bc5d597c-4d6b-44c9-bb8d-2443907c25cc",
   "metadata": {},
   "outputs": [
    {
     "data": {
      "text/html": [
       "<div>\n",
       "<style scoped>\n",
       "    .dataframe tbody tr th:only-of-type {\n",
       "        vertical-align: middle;\n",
       "    }\n",
       "\n",
       "    .dataframe tbody tr th {\n",
       "        vertical-align: top;\n",
       "    }\n",
       "\n",
       "    .dataframe thead th {\n",
       "        text-align: right;\n",
       "    }\n",
       "</style>\n",
       "<table border=\"1\" class=\"dataframe\">\n",
       "  <thead>\n",
       "    <tr style=\"text-align: right;\">\n",
       "      <th></th>\n",
       "      <th>pct_tl_open_L6M</th>\n",
       "      <th>pct_tl_closed_L6M</th>\n",
       "      <th>Tot_TL_closed_L12M</th>\n",
       "      <th>Tot_Missed_Pmnt</th>\n",
       "      <th>CC_TL</th>\n",
       "      <th>Home_TL</th>\n",
       "      <th>PL_TL</th>\n",
       "      <th>Secured_TL</th>\n",
       "      <th>Unsecured_TL</th>\n",
       "      <th>Other_TL</th>\n",
       "      <th>...</th>\n",
       "      <th>last_prod_enq2_CC</th>\n",
       "      <th>last_prod_enq2_ConsumerLoan</th>\n",
       "      <th>last_prod_enq2_HL</th>\n",
       "      <th>last_prod_enq2_PL</th>\n",
       "      <th>last_prod_enq2_others</th>\n",
       "      <th>first_prod_enq2_CC</th>\n",
       "      <th>first_prod_enq2_ConsumerLoan</th>\n",
       "      <th>first_prod_enq2_HL</th>\n",
       "      <th>first_prod_enq2_PL</th>\n",
       "      <th>first_prod_enq2_others</th>\n",
       "    </tr>\n",
       "  </thead>\n",
       "  <tbody>\n",
       "    <tr>\n",
       "      <th>count</th>\n",
       "      <td>35579.000000</td>\n",
       "      <td>35579.000000</td>\n",
       "      <td>35579.000000</td>\n",
       "      <td>35579.000000</td>\n",
       "      <td>35579.000000</td>\n",
       "      <td>35579.000000</td>\n",
       "      <td>35579.000000</td>\n",
       "      <td>35579.000000</td>\n",
       "      <td>35579.000000</td>\n",
       "      <td>35579.000000</td>\n",
       "      <td>...</td>\n",
       "      <td>35579.000000</td>\n",
       "      <td>35579.000000</td>\n",
       "      <td>35579.000000</td>\n",
       "      <td>35579.000000</td>\n",
       "      <td>35579.000000</td>\n",
       "      <td>35579.000000</td>\n",
       "      <td>35579.000000</td>\n",
       "      <td>35579.000000</td>\n",
       "      <td>35579.000000</td>\n",
       "      <td>35579.000000</td>\n",
       "    </tr>\n",
       "    <tr>\n",
       "      <th>mean</th>\n",
       "      <td>0.200989</td>\n",
       "      <td>0.109181</td>\n",
       "      <td>0.938110</td>\n",
       "      <td>0.592119</td>\n",
       "      <td>0.170831</td>\n",
       "      <td>0.080666</td>\n",
       "      <td>0.349785</td>\n",
       "      <td>2.993564</td>\n",
       "      <td>2.659996</td>\n",
       "      <td>1.188370</td>\n",
       "      <td>...</td>\n",
       "      <td>0.056691</td>\n",
       "      <td>0.398859</td>\n",
       "      <td>0.018663</td>\n",
       "      <td>0.188875</td>\n",
       "      <td>0.307429</td>\n",
       "      <td>0.052081</td>\n",
       "      <td>0.275668</td>\n",
       "      <td>0.031142</td>\n",
       "      <td>0.100930</td>\n",
       "      <td>0.480030</td>\n",
       "    </tr>\n",
       "    <tr>\n",
       "      <th>std</th>\n",
       "      <td>0.284536</td>\n",
       "      <td>0.217417</td>\n",
       "      <td>1.620181</td>\n",
       "      <td>1.159504</td>\n",
       "      <td>0.592211</td>\n",
       "      <td>0.369539</td>\n",
       "      <td>0.946365</td>\n",
       "      <td>6.558166</td>\n",
       "      <td>3.579309</td>\n",
       "      <td>2.594753</td>\n",
       "      <td>...</td>\n",
       "      <td>0.231254</td>\n",
       "      <td>0.489671</td>\n",
       "      <td>0.135333</td>\n",
       "      <td>0.391415</td>\n",
       "      <td>0.461435</td>\n",
       "      <td>0.222194</td>\n",
       "      <td>0.446857</td>\n",
       "      <td>0.173704</td>\n",
       "      <td>0.301241</td>\n",
       "      <td>0.499608</td>\n",
       "    </tr>\n",
       "    <tr>\n",
       "      <th>min</th>\n",
       "      <td>0.000000</td>\n",
       "      <td>0.000000</td>\n",
       "      <td>0.000000</td>\n",
       "      <td>0.000000</td>\n",
       "      <td>0.000000</td>\n",
       "      <td>0.000000</td>\n",
       "      <td>0.000000</td>\n",
       "      <td>0.000000</td>\n",
       "      <td>0.000000</td>\n",
       "      <td>0.000000</td>\n",
       "      <td>...</td>\n",
       "      <td>0.000000</td>\n",
       "      <td>0.000000</td>\n",
       "      <td>0.000000</td>\n",
       "      <td>0.000000</td>\n",
       "      <td>0.000000</td>\n",
       "      <td>0.000000</td>\n",
       "      <td>0.000000</td>\n",
       "      <td>0.000000</td>\n",
       "      <td>0.000000</td>\n",
       "      <td>0.000000</td>\n",
       "    </tr>\n",
       "    <tr>\n",
       "      <th>25%</th>\n",
       "      <td>0.000000</td>\n",
       "      <td>0.000000</td>\n",
       "      <td>0.000000</td>\n",
       "      <td>0.000000</td>\n",
       "      <td>0.000000</td>\n",
       "      <td>0.000000</td>\n",
       "      <td>0.000000</td>\n",
       "      <td>0.000000</td>\n",
       "      <td>1.000000</td>\n",
       "      <td>0.000000</td>\n",
       "      <td>...</td>\n",
       "      <td>0.000000</td>\n",
       "      <td>0.000000</td>\n",
       "      <td>0.000000</td>\n",
       "      <td>0.000000</td>\n",
       "      <td>0.000000</td>\n",
       "      <td>0.000000</td>\n",
       "      <td>0.000000</td>\n",
       "      <td>0.000000</td>\n",
       "      <td>0.000000</td>\n",
       "      <td>0.000000</td>\n",
       "    </tr>\n",
       "    <tr>\n",
       "      <th>50%</th>\n",
       "      <td>0.000000</td>\n",
       "      <td>0.000000</td>\n",
       "      <td>0.000000</td>\n",
       "      <td>0.000000</td>\n",
       "      <td>0.000000</td>\n",
       "      <td>0.000000</td>\n",
       "      <td>0.000000</td>\n",
       "      <td>1.000000</td>\n",
       "      <td>2.000000</td>\n",
       "      <td>0.000000</td>\n",
       "      <td>...</td>\n",
       "      <td>0.000000</td>\n",
       "      <td>0.000000</td>\n",
       "      <td>0.000000</td>\n",
       "      <td>0.000000</td>\n",
       "      <td>0.000000</td>\n",
       "      <td>0.000000</td>\n",
       "      <td>0.000000</td>\n",
       "      <td>0.000000</td>\n",
       "      <td>0.000000</td>\n",
       "      <td>0.000000</td>\n",
       "    </tr>\n",
       "    <tr>\n",
       "      <th>75%</th>\n",
       "      <td>0.333000</td>\n",
       "      <td>0.143000</td>\n",
       "      <td>1.000000</td>\n",
       "      <td>1.000000</td>\n",
       "      <td>0.000000</td>\n",
       "      <td>0.000000</td>\n",
       "      <td>0.000000</td>\n",
       "      <td>3.000000</td>\n",
       "      <td>3.000000</td>\n",
       "      <td>1.000000</td>\n",
       "      <td>...</td>\n",
       "      <td>0.000000</td>\n",
       "      <td>1.000000</td>\n",
       "      <td>0.000000</td>\n",
       "      <td>0.000000</td>\n",
       "      <td>1.000000</td>\n",
       "      <td>0.000000</td>\n",
       "      <td>1.000000</td>\n",
       "      <td>0.000000</td>\n",
       "      <td>0.000000</td>\n",
       "      <td>1.000000</td>\n",
       "    </tr>\n",
       "    <tr>\n",
       "      <th>max</th>\n",
       "      <td>1.000000</td>\n",
       "      <td>1.000000</td>\n",
       "      <td>33.000000</td>\n",
       "      <td>34.000000</td>\n",
       "      <td>27.000000</td>\n",
       "      <td>10.000000</td>\n",
       "      <td>29.000000</td>\n",
       "      <td>235.000000</td>\n",
       "      <td>55.000000</td>\n",
       "      <td>80.000000</td>\n",
       "      <td>...</td>\n",
       "      <td>1.000000</td>\n",
       "      <td>1.000000</td>\n",
       "      <td>1.000000</td>\n",
       "      <td>1.000000</td>\n",
       "      <td>1.000000</td>\n",
       "      <td>1.000000</td>\n",
       "      <td>1.000000</td>\n",
       "      <td>1.000000</td>\n",
       "      <td>1.000000</td>\n",
       "      <td>1.000000</td>\n",
       "    </tr>\n",
       "  </tbody>\n",
       "</table>\n",
       "<p>8 rows × 51 columns</p>\n",
       "</div>"
      ],
      "text/plain": [
       "       pct_tl_open_L6M  pct_tl_closed_L6M  Tot_TL_closed_L12M  \\\n",
       "count     35579.000000       35579.000000        35579.000000   \n",
       "mean          0.200989           0.109181            0.938110   \n",
       "std           0.284536           0.217417            1.620181   \n",
       "min           0.000000           0.000000            0.000000   \n",
       "25%           0.000000           0.000000            0.000000   \n",
       "50%           0.000000           0.000000            0.000000   \n",
       "75%           0.333000           0.143000            1.000000   \n",
       "max           1.000000           1.000000           33.000000   \n",
       "\n",
       "       Tot_Missed_Pmnt         CC_TL       Home_TL         PL_TL  \\\n",
       "count     35579.000000  35579.000000  35579.000000  35579.000000   \n",
       "mean          0.592119      0.170831      0.080666      0.349785   \n",
       "std           1.159504      0.592211      0.369539      0.946365   \n",
       "min           0.000000      0.000000      0.000000      0.000000   \n",
       "25%           0.000000      0.000000      0.000000      0.000000   \n",
       "50%           0.000000      0.000000      0.000000      0.000000   \n",
       "75%           1.000000      0.000000      0.000000      0.000000   \n",
       "max          34.000000     27.000000     10.000000     29.000000   \n",
       "\n",
       "         Secured_TL  Unsecured_TL      Other_TL  ...  last_prod_enq2_CC  \\\n",
       "count  35579.000000  35579.000000  35579.000000  ...       35579.000000   \n",
       "mean       2.993564      2.659996      1.188370  ...           0.056691   \n",
       "std        6.558166      3.579309      2.594753  ...           0.231254   \n",
       "min        0.000000      0.000000      0.000000  ...           0.000000   \n",
       "25%        0.000000      1.000000      0.000000  ...           0.000000   \n",
       "50%        1.000000      2.000000      0.000000  ...           0.000000   \n",
       "75%        3.000000      3.000000      1.000000  ...           0.000000   \n",
       "max      235.000000     55.000000     80.000000  ...           1.000000   \n",
       "\n",
       "       last_prod_enq2_ConsumerLoan  last_prod_enq2_HL  last_prod_enq2_PL  \\\n",
       "count                 35579.000000       35579.000000       35579.000000   \n",
       "mean                      0.398859           0.018663           0.188875   \n",
       "std                       0.489671           0.135333           0.391415   \n",
       "min                       0.000000           0.000000           0.000000   \n",
       "25%                       0.000000           0.000000           0.000000   \n",
       "50%                       0.000000           0.000000           0.000000   \n",
       "75%                       1.000000           0.000000           0.000000   \n",
       "max                       1.000000           1.000000           1.000000   \n",
       "\n",
       "       last_prod_enq2_others  first_prod_enq2_CC  \\\n",
       "count           35579.000000        35579.000000   \n",
       "mean                0.307429            0.052081   \n",
       "std                 0.461435            0.222194   \n",
       "min                 0.000000            0.000000   \n",
       "25%                 0.000000            0.000000   \n",
       "50%                 0.000000            0.000000   \n",
       "75%                 1.000000            0.000000   \n",
       "max                 1.000000            1.000000   \n",
       "\n",
       "       first_prod_enq2_ConsumerLoan  first_prod_enq2_HL  first_prod_enq2_PL  \\\n",
       "count                  35579.000000        35579.000000        35579.000000   \n",
       "mean                       0.275668            0.031142            0.100930   \n",
       "std                        0.446857            0.173704            0.301241   \n",
       "min                        0.000000            0.000000            0.000000   \n",
       "25%                        0.000000            0.000000            0.000000   \n",
       "50%                        0.000000            0.000000            0.000000   \n",
       "75%                        1.000000            0.000000            0.000000   \n",
       "max                        1.000000            1.000000            1.000000   \n",
       "\n",
       "       first_prod_enq2_others  \n",
       "count            35579.000000  \n",
       "mean                 0.480030  \n",
       "std                  0.499608  \n",
       "min                  0.000000  \n",
       "25%                  0.000000  \n",
       "50%                  0.000000  \n",
       "75%                  1.000000  \n",
       "max                  1.000000  \n",
       "\n",
       "[8 rows x 51 columns]"
      ]
     },
     "execution_count": 155,
     "metadata": {},
     "output_type": "execute_result"
    }
   ],
   "source": [
    "df_encoded.describe()"
   ]
  },
  {
   "cell_type": "code",
   "execution_count": 112,
   "id": "1e5e6170-ac77-4320-8cff-f1bb84508e99",
   "metadata": {},
   "outputs": [
    {
     "data": {
      "text/plain": [
       "0"
      ]
     },
     "execution_count": 112,
     "metadata": {},
     "output_type": "execute_result"
    }
   ],
   "source": [
    "df_encoded.isnull().sum().sum()"
   ]
  },
  {
   "cell_type": "code",
   "execution_count": 114,
   "id": "074411d5-9a7a-436c-a95e-161bc46a527c",
   "metadata": {},
   "outputs": [
    {
     "name": "stdout",
     "output_type": "stream",
     "text": [
      "<class 'pandas.core.frame.DataFrame'>\n",
      "RangeIndex: 35579 entries, 0 to 35578\n",
      "Data columns (total 52 columns):\n",
      " #   Column                        Non-Null Count  Dtype  \n",
      "---  ------                        --------------  -----  \n",
      " 0   pct_tl_open_L6M               35579 non-null  float64\n",
      " 1   pct_tl_closed_L6M             35579 non-null  float64\n",
      " 2   Tot_TL_closed_L12M            35579 non-null  int64  \n",
      " 3   Tot_Missed_Pmnt               35579 non-null  int64  \n",
      " 4   CC_TL                         35579 non-null  int64  \n",
      " 5   Home_TL                       35579 non-null  int64  \n",
      " 6   PL_TL                         35579 non-null  int64  \n",
      " 7   Secured_TL                    35579 non-null  int64  \n",
      " 8   Unsecured_TL                  35579 non-null  int64  \n",
      " 9   Other_TL                      35579 non-null  int64  \n",
      " 10  Age_Oldest_TL                 35579 non-null  int64  \n",
      " 11  Age_Newest_TL                 35579 non-null  int64  \n",
      " 12  time_since_recent_payment     35579 non-null  int64  \n",
      " 13  max_recent_level_of_deliq     35579 non-null  int64  \n",
      " 14  num_deliq_6_12mts             35579 non-null  int64  \n",
      " 15  max_deliq_12mts               35579 non-null  int64  \n",
      " 16  num_times_60p_dpd             35579 non-null  int64  \n",
      " 17  num_std_12mts                 35579 non-null  int64  \n",
      " 18  num_sub                       35579 non-null  int64  \n",
      " 19  num_sub_6mts                  35579 non-null  int64  \n",
      " 20  num_sub_12mts                 35579 non-null  int64  \n",
      " 21  num_dbt                       35579 non-null  int64  \n",
      " 22  num_dbt_12mts                 35579 non-null  int64  \n",
      " 23  num_lss                       35579 non-null  int64  \n",
      " 24  num_lss_12mts                 35579 non-null  int64  \n",
      " 25  recent_level_of_deliq         35579 non-null  int64  \n",
      " 26  CC_enq_L12m                   35579 non-null  int64  \n",
      " 27  PL_enq_L12m                   35579 non-null  int64  \n",
      " 28  time_since_recent_enq         35579 non-null  int64  \n",
      " 29  enq_L3m                       35579 non-null  int64  \n",
      " 30  NETMONTHLYINCOME              35579 non-null  int64  \n",
      " 31  Time_With_Curr_Empr           35579 non-null  int64  \n",
      " 32  CC_Flag                       35579 non-null  int64  \n",
      " 33  PL_Flag                       35579 non-null  int64  \n",
      " 34  pct_PL_enq_L6m_of_ever        35579 non-null  float64\n",
      " 35  pct_CC_enq_L6m_of_ever        35579 non-null  float64\n",
      " 36  HL_Flag                       35579 non-null  int64  \n",
      " 37  GL_Flag                       35579 non-null  int64  \n",
      " 38  EDUCATION                     35579 non-null  int32  \n",
      " 39  Approved_Flag                 35579 non-null  object \n",
      " 40  MARITALSTATUS_Single          35579 non-null  bool   \n",
      " 41  GENDER_M                      35579 non-null  bool   \n",
      " 42  last_prod_enq2_CC             35579 non-null  bool   \n",
      " 43  last_prod_enq2_ConsumerLoan   35579 non-null  bool   \n",
      " 44  last_prod_enq2_HL             35579 non-null  bool   \n",
      " 45  last_prod_enq2_PL             35579 non-null  bool   \n",
      " 46  last_prod_enq2_others         35579 non-null  bool   \n",
      " 47  first_prod_enq2_CC            35579 non-null  bool   \n",
      " 48  first_prod_enq2_ConsumerLoan  35579 non-null  bool   \n",
      " 49  first_prod_enq2_HL            35579 non-null  bool   \n",
      " 50  first_prod_enq2_PL            35579 non-null  bool   \n",
      " 51  first_prod_enq2_others        35579 non-null  bool   \n",
      "dtypes: bool(12), float64(4), int32(1), int64(34), object(1)\n",
      "memory usage: 11.1+ MB\n"
     ]
    }
   ],
   "source": [
    "df_encoded.info()"
   ]
  },
  {
   "cell_type": "code",
   "execution_count": 116,
   "id": "41ec3fd8-0a22-4033-a6b1-7d2e95448cd2",
   "metadata": {},
   "outputs": [
    {
     "data": {
      "text/plain": [
       "['MARITALSTATUS_Single',\n",
       " 'GENDER_M',\n",
       " 'last_prod_enq2_CC',\n",
       " 'last_prod_enq2_ConsumerLoan',\n",
       " 'last_prod_enq2_HL',\n",
       " 'last_prod_enq2_PL',\n",
       " 'last_prod_enq2_others',\n",
       " 'first_prod_enq2_CC',\n",
       " 'first_prod_enq2_ConsumerLoan',\n",
       " 'first_prod_enq2_HL',\n",
       " 'first_prod_enq2_PL',\n",
       " 'first_prod_enq2_others']"
      ]
     },
     "execution_count": 116,
     "metadata": {},
     "output_type": "execute_result"
    }
   ],
   "source": [
    "bool_columns = ['MARITALSTATUS_Single','GENDER_M','last_prod_enq2_CC','last_prod_enq2_ConsumerLoan','last_prod_enq2_HL',\n",
    "                'last_prod_enq2_PL','last_prod_enq2_others','first_prod_enq2_CC','first_prod_enq2_ConsumerLoan',\n",
    "                'first_prod_enq2_HL','first_prod_enq2_PL','first_prod_enq2_others']\n",
    "bool_columns"
   ]
  },
  {
   "cell_type": "code",
   "execution_count": 118,
   "id": "ebd48adc-e356-42a7-8a9a-7aa5fdf3d1e7",
   "metadata": {},
   "outputs": [
    {
     "name": "stdout",
     "output_type": "stream",
     "text": [
      "MARITALSTATUS_Single            float64\n",
      "GENDER_M                        float64\n",
      "last_prod_enq2_CC               float64\n",
      "last_prod_enq2_ConsumerLoan     float64\n",
      "last_prod_enq2_HL               float64\n",
      "last_prod_enq2_PL               float64\n",
      "last_prod_enq2_others           float64\n",
      "first_prod_enq2_CC              float64\n",
      "first_prod_enq2_ConsumerLoan    float64\n",
      "first_prod_enq2_HL              float64\n",
      "first_prod_enq2_PL              float64\n",
      "first_prod_enq2_others          float64\n",
      "dtype: object\n"
     ]
    }
   ],
   "source": [
    "df_encoded[bool_columns] = df_encoded[bool_columns].astype(float)\n",
    "print(df_encoded[bool_columns].dtypes)"
   ]
  },
  {
   "cell_type": "code",
   "execution_count": 120,
   "id": "fb2cbf6a-a72e-48c8-980e-d705b8f7f358",
   "metadata": {},
   "outputs": [
    {
     "name": "stdout",
     "output_type": "stream",
     "text": [
      "<class 'pandas.core.frame.DataFrame'>\n",
      "RangeIndex: 35579 entries, 0 to 35578\n",
      "Data columns (total 52 columns):\n",
      " #   Column                        Non-Null Count  Dtype  \n",
      "---  ------                        --------------  -----  \n",
      " 0   pct_tl_open_L6M               35579 non-null  float64\n",
      " 1   pct_tl_closed_L6M             35579 non-null  float64\n",
      " 2   Tot_TL_closed_L12M            35579 non-null  int64  \n",
      " 3   Tot_Missed_Pmnt               35579 non-null  int64  \n",
      " 4   CC_TL                         35579 non-null  int64  \n",
      " 5   Home_TL                       35579 non-null  int64  \n",
      " 6   PL_TL                         35579 non-null  int64  \n",
      " 7   Secured_TL                    35579 non-null  int64  \n",
      " 8   Unsecured_TL                  35579 non-null  int64  \n",
      " 9   Other_TL                      35579 non-null  int64  \n",
      " 10  Age_Oldest_TL                 35579 non-null  int64  \n",
      " 11  Age_Newest_TL                 35579 non-null  int64  \n",
      " 12  time_since_recent_payment     35579 non-null  int64  \n",
      " 13  max_recent_level_of_deliq     35579 non-null  int64  \n",
      " 14  num_deliq_6_12mts             35579 non-null  int64  \n",
      " 15  max_deliq_12mts               35579 non-null  int64  \n",
      " 16  num_times_60p_dpd             35579 non-null  int64  \n",
      " 17  num_std_12mts                 35579 non-null  int64  \n",
      " 18  num_sub                       35579 non-null  int64  \n",
      " 19  num_sub_6mts                  35579 non-null  int64  \n",
      " 20  num_sub_12mts                 35579 non-null  int64  \n",
      " 21  num_dbt                       35579 non-null  int64  \n",
      " 22  num_dbt_12mts                 35579 non-null  int64  \n",
      " 23  num_lss                       35579 non-null  int64  \n",
      " 24  num_lss_12mts                 35579 non-null  int64  \n",
      " 25  recent_level_of_deliq         35579 non-null  int64  \n",
      " 26  CC_enq_L12m                   35579 non-null  int64  \n",
      " 27  PL_enq_L12m                   35579 non-null  int64  \n",
      " 28  time_since_recent_enq         35579 non-null  int64  \n",
      " 29  enq_L3m                       35579 non-null  int64  \n",
      " 30  NETMONTHLYINCOME              35579 non-null  int64  \n",
      " 31  Time_With_Curr_Empr           35579 non-null  int64  \n",
      " 32  CC_Flag                       35579 non-null  int64  \n",
      " 33  PL_Flag                       35579 non-null  int64  \n",
      " 34  pct_PL_enq_L6m_of_ever        35579 non-null  float64\n",
      " 35  pct_CC_enq_L6m_of_ever        35579 non-null  float64\n",
      " 36  HL_Flag                       35579 non-null  int64  \n",
      " 37  GL_Flag                       35579 non-null  int64  \n",
      " 38  EDUCATION                     35579 non-null  int32  \n",
      " 39  Approved_Flag                 35579 non-null  object \n",
      " 40  MARITALSTATUS_Single          35579 non-null  float64\n",
      " 41  GENDER_M                      35579 non-null  float64\n",
      " 42  last_prod_enq2_CC             35579 non-null  float64\n",
      " 43  last_prod_enq2_ConsumerLoan   35579 non-null  float64\n",
      " 44  last_prod_enq2_HL             35579 non-null  float64\n",
      " 45  last_prod_enq2_PL             35579 non-null  float64\n",
      " 46  last_prod_enq2_others         35579 non-null  float64\n",
      " 47  first_prod_enq2_CC            35579 non-null  float64\n",
      " 48  first_prod_enq2_ConsumerLoan  35579 non-null  float64\n",
      " 49  first_prod_enq2_HL            35579 non-null  float64\n",
      " 50  first_prod_enq2_PL            35579 non-null  float64\n",
      " 51  first_prod_enq2_others        35579 non-null  float64\n",
      "dtypes: float64(16), int32(1), int64(34), object(1)\n",
      "memory usage: 14.0+ MB\n"
     ]
    }
   ],
   "source": [
    "df_encoded.info()"
   ]
  },
  {
   "cell_type": "code",
   "execution_count": 122,
   "id": "c89c3608-3648-45f2-80fc-57341ba48c5f",
   "metadata": {},
   "outputs": [
    {
     "data": {
      "text/plain": [
       "Approved_Flag\n",
       "P2    0.600579\n",
       "P3    0.160488\n",
       "P4    0.133674\n",
       "P1    0.105259\n",
       "Name: proportion, dtype: float64"
      ]
     },
     "execution_count": 122,
     "metadata": {},
     "output_type": "execute_result"
    }
   ],
   "source": [
    "df_encoded['Approved_Flag'].value_counts(normalize=True)"
   ]
  },
  {
   "cell_type": "code",
   "execution_count": 130,
   "id": "c8230c9d-02c5-4c80-a9f9-064d119579c8",
   "metadata": {},
   "outputs": [],
   "source": [
    "# Split the data into dependent and independent variable\n",
    "x = df_encoded.drop(columns=['Approved_Flag'], axis=1)\n",
    "y = df_encoded['Approved_Flag']"
   ]
  },
  {
   "cell_type": "code",
   "execution_count": null,
   "id": "a72f55e7-5502-48f5-8b0c-0f0f05905b08",
   "metadata": {},
   "outputs": [],
   "source": [
    "# SMOTE, RandomOverSampler, RandomUnderSampler, class_weight, stratify = dependent_variable"
   ]
  },
  {
   "cell_type": "code",
   "execution_count": 128,
   "id": "2a725d78-73b5-4929-aff9-a26c49df6f31",
   "metadata": {},
   "outputs": [],
   "source": [
    "# SMOTE\n",
    "from imblearn.over_sampling import SMOTE\n",
    "from imblearn.over_sampling import RandomOverSampler\n",
    "from imblearn.under_sampling import RandomUnderSampler # Not appreciated\n",
    "from sklearn.ensemble import RandomForestClassifier"
   ]
  },
  {
   "cell_type": "code",
   "execution_count": 134,
   "id": "09f19a2b-041a-4d40-9b72-954fc9292ac9",
   "metadata": {},
   "outputs": [
    {
     "name": "stdout",
     "output_type": "stream",
     "text": [
      "after smote, class distribution is:\n",
      "Approved_Flag\n",
      "P2    0.25\n",
      "P3    0.25\n",
      "P4    0.25\n",
      "P1    0.25\n",
      "Name: proportion, dtype: float64\n"
     ]
    }
   ],
   "source": [
    "# SMOTE\n",
    "smote = SMOTE(random_state=101)\n",
    "x_smote, y_smote = smote.fit_resample(x, y)\n",
    "print(\"after smote, class distribution is:\")\n",
    "print(pd.Series(y_smote).value_counts(normalize=True))"
   ]
  },
  {
   "cell_type": "code",
   "execution_count": 136,
   "id": "6593f010-27da-41ff-adb2-d63c41916cad",
   "metadata": {},
   "outputs": [
    {
     "name": "stdout",
     "output_type": "stream",
     "text": [
      "after smote, class distribution is:\n",
      "Approved_Flag\n",
      "P2    0.25\n",
      "P3    0.25\n",
      "P4    0.25\n",
      "P1    0.25\n",
      "Name: proportion, dtype: float64\n"
     ]
    }
   ],
   "source": [
    "# RandomOverSampler\n",
    "randomoversampler = RandomOverSampler(random_state=101)\n",
    "x_smote, y_smote = randomoversampler.fit_resample(x, y)\n",
    "print(\"after smote, class distribution is:\")\n",
    "print(pd.Series(y_smote).value_counts(normalize=True))"
   ]
  },
  {
   "cell_type": "code",
   "execution_count": 138,
   "id": "2fbdd607-9e12-4eab-a748-fc8842cf4b64",
   "metadata": {},
   "outputs": [
    {
     "name": "stdout",
     "output_type": "stream",
     "text": [
      "after smote, class distribution is:\n",
      "Approved_Flag\n",
      "P1    0.25\n",
      "P2    0.25\n",
      "P3    0.25\n",
      "P4    0.25\n",
      "Name: proportion, dtype: float64\n"
     ]
    }
   ],
   "source": [
    "# RandomUnderSampler\n",
    "randomundersampler = RandomUnderSampler(random_state=101)\n",
    "x_smote, y_smote = randomundersampler.fit_resample(x, y)\n",
    "print(\"after smote, class distribution is:\")\n",
    "print(pd.Series(y_smote).value_counts(normalize=True))"
   ]
  },
  {
   "cell_type": "code",
   "execution_count": null,
   "id": "55c784be-faa6-46c4-8378-3789c8cab40e",
   "metadata": {},
   "outputs": [],
   "source": [
    "# Class_Weight : class_weight='balanced'\n",
    "#from sklearn.ensemble import RandomForestClassifier\n",
    "#model = RandomForestClassifier(class_weight='balanced', random_state=101)\n",
    "#model.fit(x, y)"
   ]
  },
  {
   "cell_type": "code",
   "execution_count": null,
   "id": "b745ace7-2636-4eae-aa37-a38c43e826d6",
   "metadata": {},
   "outputs": [],
   "source": []
  },
  {
   "cell_type": "code",
   "execution_count": null,
   "id": "252d1aea-b990-48ae-badd-9d75323569cd",
   "metadata": {},
   "outputs": [],
   "source": [
    "# Split the data into dependent and independent variable\n",
    "x = df_encoded.drop(columns=['Approved_Flag'], axis=1)\n",
    "y = df_encoded['Approved_Flag']"
   ]
  },
  {
   "cell_type": "code",
   "execution_count": 150,
   "id": "6b6d2693-45ff-460d-962b-d4065148ae3b",
   "metadata": {},
   "outputs": [
    {
     "data": {
      "text/plain": [
       "0        P2\n",
       "1        P2\n",
       "2        P3\n",
       "3        P2\n",
       "4        P4\n",
       "         ..\n",
       "35574    P2\n",
       "35575    P4\n",
       "35576    P1\n",
       "35577    P3\n",
       "35578    P2\n",
       "Name: Approved_Flag, Length: 35579, dtype: object"
      ]
     },
     "execution_count": 150,
     "metadata": {},
     "output_type": "execute_result"
    }
   ],
   "source": [
    "y"
   ]
  },
  {
   "cell_type": "code",
   "execution_count": 141,
   "id": "a6a3d39f-2ef9-4ff1-8ce3-6efe7a376ba7",
   "metadata": {},
   "outputs": [],
   "source": [
    "# Split the data into training and testing\n",
    "from sklearn.model_selection import train_test_split\n",
    "x_train, x_test, y_train, y_test = train_test_split(x, y, test_size=0.2, random_state=101, stratify=y)"
   ]
  },
  {
   "cell_type": "markdown",
   "id": "2c1821d6-0b5d-4cb4-ac4c-93b0d3d67d88",
   "metadata": {},
   "source": [
    "# 1. RandomForest Classifier"
   ]
  },
  {
   "cell_type": "code",
   "execution_count": 145,
   "id": "5b8f8b32-9689-441f-a993-fcb214d23584",
   "metadata": {},
   "outputs": [
    {
     "name": "stdout",
     "output_type": "stream",
     "text": [
      "\n",
      "Accuracy : 0.771079258010118\n",
      "\n",
      "Class p1 :\n",
      "Precision : 0.8361408882082695\n",
      "Recall : 0.7289719626168224\n",
      "F1_Score : 0.7788873038516405\n",
      "\n",
      "Class p2 :\n",
      "Precision : 0.8029270248596632\n",
      "Recall : 0.9370613008890969\n",
      "F1_Score : 0.8648240120924207\n",
      "\n",
      "Class p3 :\n",
      "Precision : 0.462406015037594\n",
      "Recall : 0.21541155866900175\n",
      "F1_Score : 0.2939068100358423\n",
      "\n",
      "Class p4 :\n",
      "Precision : 0.7317073170731707\n",
      "Recall : 0.7255520504731862\n",
      "F1_Score : 0.7286166842661035\n",
      "\n"
     ]
    }
   ],
   "source": [
    "from sklearn import metrics\n",
    "from sklearn.metrics import precision_recall_fscore_support\n",
    "from sklearn.metrics import classification_report, accuracy_score, confusion_matrix\n",
    "\n",
    "rf_classifier = RandomForestClassifier(n_estimators=200, random_state=101)\n",
    "rf_classifier.fit(x_train, y_train)\n",
    "y_pred = rf_classifier.predict(x_test)\n",
    "\n",
    "accuracy = accuracy_score(y_test, y_pred)\n",
    "print()\n",
    "print(f\"Accuracy : {accuracy}\")\n",
    "print()\n",
    "precision, recall, f1_score, _ = precision_recall_fscore_support(y_test, y_pred)\n",
    "#classification_report = classification_report(y_test, y_pred)\n",
    "#print(f\"classification_report : {classification_report}\")\n",
    "\n",
    "for i, v in enumerate(['p1', 'p2', 'p3', 'p4']):\n",
    "    print(f\"Class {v} :\")\n",
    "    print(f\"Precision : {precision[i]}\")\n",
    "    print(f\"Recall : {recall[i]}\")\n",
    "    print(f\"F1_Score : {f1_score[i]}\")\n",
    "    print()"
   ]
  },
  {
   "cell_type": "markdown",
   "id": "61c2c1c5-7424-4b02-9035-6ddad142db8e",
   "metadata": {},
   "source": [
    "# 2. xgboost model"
   ]
  },
  {
   "cell_type": "code",
   "execution_count": 152,
   "id": "f1b0454e-fe46-4cb2-bf62-a16a57c51136",
   "metadata": {},
   "outputs": [
    {
     "name": "stdout",
     "output_type": "stream",
     "text": [
      "\n",
      "Accuracy : 0.7774030354131535\n",
      "\n",
      "Class p1 :\n",
      "Precision : 0.79702300405954\n",
      "Recall : 0.7863818424566088\n",
      "F1_Score : 0.7916666666666666\n",
      "\n",
      "Class p2 :\n",
      "Precision : 0.8311328790459966\n",
      "Recall : 0.9131960692559663\n",
      "F1_Score : 0.8702341137123746\n",
      "\n",
      "Class p3 :\n",
      "Precision : 0.45970937912813736\n",
      "Recall : 0.30472854640980734\n",
      "F1_Score : 0.3665086887835703\n",
      "\n",
      "Class p4 :\n",
      "Precision : 0.7489177489177489\n",
      "Recall : 0.7276550998948476\n",
      "F1_Score : 0.7381333333333333\n",
      "\n"
     ]
    }
   ],
   "source": [
    "from sklearn import metrics\n",
    "from sklearn.metrics import precision_recall_fscore_support\n",
    "from sklearn.metrics import classification_report, accuracy_score, confusion_matrix\n",
    "#!pip install xgboost\n",
    "import xgboost as xgb\n",
    "from sklearn.preprocessing import LabelEncoder\n",
    "\n",
    "xgb_classifier = xgb.XGBClassifier(objective='multi:softmax', num_class=4)\n",
    "\n",
    "x = df_encoded.drop(columns=['Approved_Flag'], axis=1)\n",
    "y = df_encoded['Approved_Flag']\n",
    "\n",
    "label_encoder = LabelEncoder()\n",
    "y_encoded = label_encoder.fit_transform(y)\n",
    "\n",
    "x_train, x_test, y_train, y_test = train_test_split(x, y_encoded, test_size=0.2, random_state=101, stratify=y)\n",
    "\n",
    "xgb_classifier.fit(x_train, y_train)\n",
    "y_pred = xgb_classifier.predict(x_test)\n",
    "\n",
    "accuracy = accuracy_score(y_test, y_pred)\n",
    "print()\n",
    "print(f\"Accuracy : {accuracy}\")\n",
    "print()\n",
    "precision, recall, f1_score, _ = precision_recall_fscore_support(y_test, y_pred)\n",
    "#classification_report = classification_report(y_test, y_pred)\n",
    "#print(f\"classification_report : {classification_report}\")\n",
    "\n",
    "for i, v in enumerate(['p1', 'p2', 'p3', 'p4']):\n",
    "    print(f\"Class {v} :\")\n",
    "    print(f\"Precision : {precision[i]}\")\n",
    "    print(f\"Recall : {recall[i]}\")\n",
    "    print(f\"F1_Score : {f1_score[i]}\")\n",
    "    print()"
   ]
  },
  {
   "cell_type": "markdown",
   "id": "de745999-18bb-4d8b-92af-4c22b6c1bbb6",
   "metadata": {},
   "source": [
    "# Hyperparameter tuning in xgboost"
   ]
  },
  {
   "cell_type": "code",
   "execution_count": 157,
   "id": "6a60ce7c-c4d6-46c2-8ed3-bcfac71b70de",
   "metadata": {},
   "outputs": [],
   "source": [
    "from sklearn.model_selection import GridSearchCV"
   ]
  },
  {
   "cell_type": "code",
   "execution_count": 159,
   "id": "cc0c767f-84da-4714-8438-1cfe2aaf2600",
   "metadata": {},
   "outputs": [
    {
     "name": "stdout",
     "output_type": "stream",
     "text": [
      "Best Hyperparameters : {'learning_rate': 0.2, 'max_depth': 3, 'n_estimators': 200}\n",
      "Test Accuracy : 0.7880831928049467\n"
     ]
    }
   ],
   "source": [
    "x_train, x_test, y_train, y_test = train_test_split(x, y_encoded, test_size=0.2, random_state=101, stratify=y)\n",
    "\n",
    "xgb_model = xgb.XGBClassifier(objective='multi:softmax', num_class=4)\n",
    "\n",
    "param_grid = {'n_estimators':[50,100,200],'max_depth':[3,5,7],'learning_rate':[0.01,0.1,0.2],}\n",
    "grid_search = GridSearchCV(estimator=xgb_model,param_grid=param_grid, cv=5, scoring='accuracy',n_jobs=-1)\n",
    "grid_search.fit(x_train, y_train)\n",
    "\n",
    "print(\"Best Hyperparameters :\",grid_search.best_params_)\n",
    "\n",
    "best_model = grid_search.best_estimator_\n",
    "\n",
    "accuracy = best_model.score(x_test, y_test)\n",
    "print(\"Test Accuracy :\", accuracy)"
   ]
  },
  {
   "cell_type": "markdown",
   "id": "5d8d8a3c-1b7c-4f4e-ae26-94ce916073f2",
   "metadata": {},
   "source": [
    "# Deep Neural Network - ANN/MLP(multilayer perceptron)"
   ]
  },
  {
   "cell_type": "code",
   "execution_count": 194,
   "id": "93873b7a-373a-4080-8b4a-bd422c57f619",
   "metadata": {},
   "outputs": [
    {
     "name": "stdout",
     "output_type": "stream",
     "text": [
      "Epoch 1/100\n",
      "\u001b[1m890/890\u001b[0m \u001b[32m━━━━━━━━━━━━━━━━━━━━\u001b[0m\u001b[37m\u001b[0m \u001b[1m7s\u001b[0m 4ms/step - accuracy: 0.6605 - loss: 0.8651 - val_accuracy: 0.7528 - val_loss: 0.5896\n",
      "Epoch 2/100\n",
      "\u001b[1m890/890\u001b[0m \u001b[32m━━━━━━━━━━━━━━━━━━━━\u001b[0m\u001b[37m\u001b[0m \u001b[1m5s\u001b[0m 4ms/step - accuracy: 0.7541 - loss: 0.5945 - val_accuracy: 0.7625 - val_loss: 0.5570\n",
      "Epoch 3/100\n",
      "\u001b[1m890/890\u001b[0m \u001b[32m━━━━━━━━━━━━━━━━━━━━\u001b[0m\u001b[37m\u001b[0m \u001b[1m3s\u001b[0m 4ms/step - accuracy: 0.7635 - loss: 0.5701 - val_accuracy: 0.7662 - val_loss: 0.5492\n",
      "Epoch 4/100\n",
      "\u001b[1m890/890\u001b[0m \u001b[32m━━━━━━━━━━━━━━━━━━━━\u001b[0m\u001b[37m\u001b[0m \u001b[1m4s\u001b[0m 4ms/step - accuracy: 0.7679 - loss: 0.5475 - val_accuracy: 0.7642 - val_loss: 0.5347\n",
      "Epoch 5/100\n",
      "\u001b[1m890/890\u001b[0m \u001b[32m━━━━━━━━━━━━━━━━━━━━\u001b[0m\u001b[37m\u001b[0m \u001b[1m3s\u001b[0m 4ms/step - accuracy: 0.7744 - loss: 0.5249 - val_accuracy: 0.7782 - val_loss: 0.5226\n",
      "Epoch 6/100\n",
      "\u001b[1m890/890\u001b[0m \u001b[32m━━━━━━━━━━━━━━━━━━━━\u001b[0m\u001b[37m\u001b[0m \u001b[1m3s\u001b[0m 3ms/step - accuracy: 0.7783 - loss: 0.5120 - val_accuracy: 0.7723 - val_loss: 0.5271\n",
      "Epoch 7/100\n",
      "\u001b[1m890/890\u001b[0m \u001b[32m━━━━━━━━━━━━━━━━━━━━\u001b[0m\u001b[37m\u001b[0m \u001b[1m4s\u001b[0m 4ms/step - accuracy: 0.7824 - loss: 0.5034 - val_accuracy: 0.7733 - val_loss: 0.5232\n",
      "Epoch 8/100\n",
      "\u001b[1m890/890\u001b[0m \u001b[32m━━━━━━━━━━━━━━━━━━━━\u001b[0m\u001b[37m\u001b[0m \u001b[1m4s\u001b[0m 5ms/step - accuracy: 0.7831 - loss: 0.5001 - val_accuracy: 0.7757 - val_loss: 0.5201\n",
      "Epoch 9/100\n",
      "\u001b[1m890/890\u001b[0m \u001b[32m━━━━━━━━━━━━━━━━━━━━\u001b[0m\u001b[37m\u001b[0m \u001b[1m4s\u001b[0m 5ms/step - accuracy: 0.7812 - loss: 0.4897 - val_accuracy: 0.7774 - val_loss: 0.5162\n",
      "Epoch 10/100\n",
      "\u001b[1m890/890\u001b[0m \u001b[32m━━━━━━━━━━━━━━━━━━━━\u001b[0m\u001b[37m\u001b[0m \u001b[1m3s\u001b[0m 3ms/step - accuracy: 0.7844 - loss: 0.4894 - val_accuracy: 0.7742 - val_loss: 0.5090\n",
      "Epoch 11/100\n",
      "\u001b[1m890/890\u001b[0m \u001b[32m━━━━━━━━━━━━━━━━━━━━\u001b[0m\u001b[37m\u001b[0m \u001b[1m4s\u001b[0m 4ms/step - accuracy: 0.7860 - loss: 0.4846 - val_accuracy: 0.7737 - val_loss: 0.5207\n",
      "Epoch 12/100\n",
      "\u001b[1m890/890\u001b[0m \u001b[32m━━━━━━━━━━━━━━━━━━━━\u001b[0m\u001b[37m\u001b[0m \u001b[1m4s\u001b[0m 4ms/step - accuracy: 0.7851 - loss: 0.4774 - val_accuracy: 0.7757 - val_loss: 0.5185\n",
      "Epoch 13/100\n",
      "\u001b[1m890/890\u001b[0m \u001b[32m━━━━━━━━━━━━━━━━━━━━\u001b[0m\u001b[37m\u001b[0m \u001b[1m3s\u001b[0m 4ms/step - accuracy: 0.7880 - loss: 0.4696 - val_accuracy: 0.7739 - val_loss: 0.5128\n",
      "Epoch 14/100\n",
      "\u001b[1m890/890\u001b[0m \u001b[32m━━━━━━━━━━━━━━━━━━━━\u001b[0m\u001b[37m\u001b[0m \u001b[1m4s\u001b[0m 4ms/step - accuracy: 0.7925 - loss: 0.4605 - val_accuracy: 0.7767 - val_loss: 0.5086\n",
      "Epoch 15/100\n",
      "\u001b[1m890/890\u001b[0m \u001b[32m━━━━━━━━━━━━━━━━━━━━\u001b[0m\u001b[37m\u001b[0m \u001b[1m3s\u001b[0m 4ms/step - accuracy: 0.7930 - loss: 0.4657 - val_accuracy: 0.7789 - val_loss: 0.5139\n",
      "Epoch 16/100\n",
      "\u001b[1m890/890\u001b[0m \u001b[32m━━━━━━━━━━━━━━━━━━━━\u001b[0m\u001b[37m\u001b[0m \u001b[1m4s\u001b[0m 5ms/step - accuracy: 0.7917 - loss: 0.4627 - val_accuracy: 0.7754 - val_loss: 0.5280\n",
      "Epoch 17/100\n",
      "\u001b[1m890/890\u001b[0m \u001b[32m━━━━━━━━━━━━━━━━━━━━\u001b[0m\u001b[37m\u001b[0m \u001b[1m3s\u001b[0m 4ms/step - accuracy: 0.7925 - loss: 0.4553 - val_accuracy: 0.7739 - val_loss: 0.5253\n",
      "Epoch 18/100\n",
      "\u001b[1m890/890\u001b[0m \u001b[32m━━━━━━━━━━━━━━━━━━━━\u001b[0m\u001b[37m\u001b[0m \u001b[1m5s\u001b[0m 5ms/step - accuracy: 0.7904 - loss: 0.4584 - val_accuracy: 0.7737 - val_loss: 0.5276\n",
      "Epoch 19/100\n",
      "\u001b[1m890/890\u001b[0m \u001b[32m━━━━━━━━━━━━━━━━━━━━\u001b[0m\u001b[37m\u001b[0m \u001b[1m3s\u001b[0m 4ms/step - accuracy: 0.7890 - loss: 0.4533 - val_accuracy: 0.7683 - val_loss: 0.5261\n",
      "Epoch 20/100\n",
      "\u001b[1m890/890\u001b[0m \u001b[32m━━━━━━━━━━━━━━━━━━━━\u001b[0m\u001b[37m\u001b[0m \u001b[1m4s\u001b[0m 4ms/step - accuracy: 0.7935 - loss: 0.4543 - val_accuracy: 0.7760 - val_loss: 0.5218\n",
      "Epoch 21/100\n",
      "\u001b[1m890/890\u001b[0m \u001b[32m━━━━━━━━━━━━━━━━━━━━\u001b[0m\u001b[37m\u001b[0m \u001b[1m5s\u001b[0m 6ms/step - accuracy: 0.7955 - loss: 0.4479 - val_accuracy: 0.7694 - val_loss: 0.5364\n",
      "Epoch 22/100\n",
      "\u001b[1m890/890\u001b[0m \u001b[32m━━━━━━━━━━━━━━━━━━━━\u001b[0m\u001b[37m\u001b[0m \u001b[1m4s\u001b[0m 4ms/step - accuracy: 0.7997 - loss: 0.4416 - val_accuracy: 0.7736 - val_loss: 0.5399\n",
      "Epoch 23/100\n",
      "\u001b[1m890/890\u001b[0m \u001b[32m━━━━━━━━━━━━━━━━━━━━\u001b[0m\u001b[37m\u001b[0m \u001b[1m4s\u001b[0m 4ms/step - accuracy: 0.8008 - loss: 0.4403 - val_accuracy: 0.7726 - val_loss: 0.5509\n",
      "Epoch 24/100\n",
      "\u001b[1m890/890\u001b[0m \u001b[32m━━━━━━━━━━━━━━━━━━━━\u001b[0m\u001b[37m\u001b[0m \u001b[1m3s\u001b[0m 4ms/step - accuracy: 0.7975 - loss: 0.4438 - val_accuracy: 0.7628 - val_loss: 0.5394\n",
      "\u001b[1m223/223\u001b[0m \u001b[32m━━━━━━━━━━━━━━━━━━━━\u001b[0m\u001b[37m\u001b[0m \u001b[1m1s\u001b[0m 3ms/step\n",
      "              precision    recall  f1-score   support\n",
      "\n",
      "          P1       0.80      0.75      0.78       749\n",
      "          P2       0.81      0.93      0.87      4274\n",
      "          P3       0.48      0.26      0.34      1142\n",
      "          P4       0.77      0.71      0.74       951\n",
      "\n",
      "    accuracy                           0.78      7116\n",
      "   macro avg       0.72      0.66      0.68      7116\n",
      "weighted avg       0.75      0.78      0.76      7116\n",
      "\n"
     ]
    }
   ],
   "source": [
    "# Mandatory Preprocessing - Feature Scaling\n",
    "from sklearn.preprocessing import StandardScaler\n",
    "from tensorflow.keras.models import Sequential\n",
    "from tensorflow.keras.layers import Dense, Dropout\n",
    "from tensorflow.keras.utils import to_categorical\n",
    "from tensorflow.keras.callbacks import EarlyStopping\n",
    "\n",
    "x = df_encoded.drop(columns=['Approved_Flag'], axis=1)\n",
    "y = df_encoded['Approved_Flag']\n",
    "\n",
    "y_encoded = pd.get_dummies(y).values\n",
    "\n",
    "x_train, x_test, y_train, y_test = train_test_split(x, y_encoded, test_size=0.2, random_state=101, stratify=y)\n",
    "\n",
    "# Feature Scaling\n",
    "scaler = StandardScaler()\n",
    "x_train = scaler.fit_transform(x_train)\n",
    "x_test = scaler.transform(x_test)\n",
    "\n",
    "# Building Model\n",
    "model = Sequential()\n",
    "model.add(Dense(64, input_dim=x_train.shape[1], activation='relu'))\n",
    "model.add(Dense(128, activation='relu'))\n",
    "model.add(Dropout(0.3))\n",
    "model.add(Dense(64, activation='relu'))\n",
    "model.add(Dropout(0.3))\n",
    "model.add(Dense(y_train.shape[1], activation='softmax'))\n",
    "model.compile(optimizer='adam', loss='categorical_crossentropy', metrics=['accuracy'])\n",
    "early_stopping = EarlyStopping(monitor='val_loss',patience=10, restore_best_weights=True)\n",
    "#history = model.fit(x_train, y_train, validation_split=0.2, epochs=100, batch_size=32, callbacks=[early_stopping])\n",
    "history = model.fit(x_train, y_train, validation_data=(x_test, y_test), epochs=100, batch_size=32, callbacks=[early_stopping])\n",
    "# Evaluate the model\n",
    "y_pred_prob = model.predict(x_test)\n",
    "y_pred = np.argmax(y_pred_prob, axis=1)\n",
    "y_true = np.argmax(y_test, axis=1)\n",
    "\n",
    "print(classification_report(y_true, y_pred, target_names=['P1', 'P2', 'P3', 'P4']))               \n"
   ]
  },
  {
   "cell_type": "code",
   "execution_count": 176,
   "id": "3f59e0cd-1d94-42ae-aae8-42d4a2133a7f",
   "metadata": {},
   "outputs": [
    {
     "data": {
      "text/plain": [
       "1    21368\n",
       "2     5710\n",
       "3     4756\n",
       "0     3745\n",
       "Name: count, dtype: int64"
      ]
     },
     "execution_count": 176,
     "metadata": {},
     "output_type": "execute_result"
    }
   ],
   "source": [
    "pd.DataFrame(y_encoded).value_counts()"
   ]
  },
  {
   "cell_type": "code",
   "execution_count": 180,
   "id": "2e3aaf46-7aa6-4a6f-9159-86b9b62c6519",
   "metadata": {},
   "outputs": [
    {
     "data": {
      "text/plain": [
       "51"
      ]
     },
     "execution_count": 180,
     "metadata": {},
     "output_type": "execute_result"
    }
   ],
   "source": [
    "x_train.shape[1]"
   ]
  },
  {
   "cell_type": "code",
   "execution_count": 182,
   "id": "f0179e73-ecb1-4310-9c15-918da847e23c",
   "metadata": {},
   "outputs": [
    {
     "data": {
      "text/plain": [
       "(28463, 51)"
      ]
     },
     "execution_count": 182,
     "metadata": {},
     "output_type": "execute_result"
    }
   ],
   "source": [
    "x_train.shape"
   ]
  },
  {
   "cell_type": "code",
   "execution_count": null,
   "id": "0997d38a-a4c9-45cd-923c-1b97fa378d2a",
   "metadata": {},
   "outputs": [],
   "source": []
  },
  {
   "cell_type": "code",
   "execution_count": null,
   "id": "d96d6608-188d-4257-a64b-65fd58364dab",
   "metadata": {},
   "outputs": [],
   "source": []
  },
  {
   "cell_type": "code",
   "execution_count": null,
   "id": "90ee131b-7fa4-4753-930c-fc697f1bbdc3",
   "metadata": {},
   "outputs": [],
   "source": []
  },
  {
   "cell_type": "code",
   "execution_count": null,
   "id": "b23103d7-16ca-44c6-8515-5104f2920afb",
   "metadata": {},
   "outputs": [],
   "source": []
  },
  {
   "cell_type": "code",
   "execution_count": null,
   "id": "21cb02b8-be7b-426b-96cc-7c1800429e90",
   "metadata": {},
   "outputs": [],
   "source": []
  },
  {
   "cell_type": "code",
   "execution_count": null,
   "id": "8c856f1a-172e-4064-bb65-428d8c13951d",
   "metadata": {},
   "outputs": [],
   "source": []
  },
  {
   "cell_type": "code",
   "execution_count": null,
   "id": "b6b64d95-c367-4b00-900e-417870fe3466",
   "metadata": {},
   "outputs": [],
   "source": []
  },
  {
   "cell_type": "code",
   "execution_count": null,
   "id": "23459300-fc27-4790-88e5-100fe9831250",
   "metadata": {},
   "outputs": [],
   "source": []
  },
  {
   "cell_type": "code",
   "execution_count": null,
   "id": "2955a658-9bf9-4ec7-bf68-85ec6cec6895",
   "metadata": {},
   "outputs": [],
   "source": []
  },
  {
   "cell_type": "code",
   "execution_count": null,
   "id": "1148923c-14d5-4160-82a9-df7f9b5d78ac",
   "metadata": {},
   "outputs": [],
   "source": []
  }
 ],
 "metadata": {
  "kernelspec": {
   "display_name": "Python 3 (ipykernel)",
   "language": "python",
   "name": "python3"
  },
  "language_info": {
   "codemirror_mode": {
    "name": "ipython",
    "version": 3
   },
   "file_extension": ".py",
   "mimetype": "text/x-python",
   "name": "python",
   "nbconvert_exporter": "python",
   "pygments_lexer": "ipython3",
   "version": "3.12.4"
  }
 },
 "nbformat": 4,
 "nbformat_minor": 5
}
